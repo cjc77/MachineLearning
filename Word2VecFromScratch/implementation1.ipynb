{
 "cells": [
  {
   "cell_type": "code",
   "execution_count": 1,
   "metadata": {},
   "outputs": [],
   "source": [
    "import numpy as np\n",
    "from collections import defaultdict\n",
    "from word2vec_ import Word2Vec"
   ]
  },
  {
   "cell_type": "markdown",
   "metadata": {},
   "source": [
    "<h2>Experiment</h2>"
   ]
  },
  {
   "cell_type": "code",
   "execution_count": 2,
   "metadata": {},
   "outputs": [],
   "source": [
    "corpus = np.array([[\"the\", \"quick\", \"brown\", \"fox\", \"jumps\", \"over\", \"the\", \"lazy\", \"dog\"]])\n",
    "\n",
    "settings = defaultdict(int)\n",
    "settings[\"N\"] = 6\n",
    "settings[\"C\"] = 2\n",
    "settings[\"eta\"] = 0.1\n",
    "settings[\"epochs\"] = 5000\n",
    "\n",
    "w2v = Word2Vec(settings[\"N\"])\n",
    "\n",
    "X_train = w2v.gen_training_data(corpus, settings[\"C\"])\n",
    "# print(w2v.W1)\n",
    "# print(w2v.W2)\n",
    "w2v.train(X_train, eta=settings[\"eta\"], epochs=settings[\"epochs\"])"
   ]
  },
  {
   "cell_type": "code",
   "execution_count": 3,
   "metadata": {},
   "outputs": [
    {
     "name": "stdout",
     "output_type": "stream",
     "text": [
      "dog: [-2.10173881  1.86132553  1.06248626  0.83817436  0.11138731 -0.33698468]\n",
      "lazy: [-0.89817263 -1.08661809 -0.30544781  2.03174593  1.65812463 -1.10022997]\n"
     ]
    }
   ],
   "source": [
    "fox = w2v.word_vec(\"fox\")\n",
    "dog = w2v.word_vec(\"dog\")\n",
    "lazy = w2v.word_vec(\"lazy\")\n",
    "print(\"dog: {}\\nlazy: {}\".format(dog, lazy))"
   ]
  },
  {
   "cell_type": "code",
   "execution_count": 6,
   "metadata": {},
   "outputs": [
    {
     "name": "stdout",
     "output_type": "stream",
     "text": [
      "{'brown': 0.2966805658207399, 'dog': 0.0030144470877521146, 'fox': 0.00040365013643599003, 'jumps': 0.19919874255835054, 'lazy': 0.002050521871638996, 'over': 0.3130581274535572, 'quick': 0.1849714762556477, 'the': 0.0006224688158776467}\n"
     ]
    }
   ],
   "source": [
    "fox_1h = w2v.get_one_hot(\"fox\")\n",
    "probs = w2v.context_probs(fox_1h)\n",
    "print(\"{}\".format(dict(zip(w2v.vocab, probs))))"
   ]
  },
  {
   "cell_type": "code",
   "execution_count": 7,
   "metadata": {},
   "outputs": [
    {
     "name": "stdout",
     "output_type": "stream",
     "text": [
      "{'brown': 0.1502531684005546, 'dog': 0.17553552240740128, 'fox': 0.0049701642349655, 'jumps': 0.16040239028931405, 'lazy': 0.19040327714693803, 'over': 0.15786427144287507, 'quick': 0.15688722019231882, 'the': 0.003683985885632612}\n"
     ]
    }
   ],
   "source": [
    "the_1h = w2v.get_one_hot(\"the\")\n",
    "probs = w2v.context_probs(the_1h)\n",
    "print(\"{}\".format(dict(zip(w2v.vocab, probs))))"
   ]
  },
  {
   "cell_type": "code",
   "execution_count": null,
   "metadata": {},
   "outputs": [],
   "source": []
  },
  {
   "cell_type": "code",
   "execution_count": null,
   "metadata": {},
   "outputs": [],
   "source": []
  },
  {
   "cell_type": "code",
   "execution_count": null,
   "metadata": {},
   "outputs": [],
   "source": []
  },
  {
   "cell_type": "code",
   "execution_count": null,
   "metadata": {},
   "outputs": [],
   "source": []
  },
  {
   "cell_type": "code",
   "execution_count": null,
   "metadata": {},
   "outputs": [],
   "source": []
  },
  {
   "cell_type": "code",
   "execution_count": null,
   "metadata": {},
   "outputs": [],
   "source": []
  },
  {
   "cell_type": "code",
   "execution_count": null,
   "metadata": {},
   "outputs": [],
   "source": []
  }
 ],
 "metadata": {
  "kernelspec": {
   "display_name": "Python 3",
   "language": "python",
   "name": "python3"
  },
  "language_info": {
   "codemirror_mode": {
    "name": "ipython",
    "version": 3
   },
   "file_extension": ".py",
   "mimetype": "text/x-python",
   "name": "python",
   "nbconvert_exporter": "python",
   "pygments_lexer": "ipython3",
   "version": "3.7.0"
  }
 },
 "nbformat": 4,
 "nbformat_minor": 2
}
