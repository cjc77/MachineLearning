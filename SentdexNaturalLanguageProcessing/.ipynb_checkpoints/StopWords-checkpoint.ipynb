{
 "cells": [
  {
   "cell_type": "markdown",
   "metadata": {},
   "source": [
    "<h1>Stop Words</h1>"
   ]
  },
  {
   "cell_type": "code",
   "execution_count": 1,
   "metadata": {
    "collapsed": true
   },
   "outputs": [],
   "source": [
    "from nltk.corpus import stopwords\n",
    "from nltk.tokenize import word_tokenize"
   ]
  },
  {
   "cell_type": "code",
   "execution_count": 2,
   "metadata": {
    "collapsed": true
   },
   "outputs": [],
   "source": [
    "# Create a set of words that nltk considers to be stopwords\n",
    "stop_words = set(stopwords.words('english'))\n",
    "\n",
    "ex_sentence = \"This is a sample sentence, showing off the stop words filtration.\"\n",
    "\n",
    "word_tokens = word_tokenize(ex_sentence)"
   ]
  },
  {
   "cell_type": "code",
   "execution_count": 3,
   "metadata": {},
   "outputs": [
    {
     "name": "stdout",
     "output_type": "stream",
     "text": [
      "Filtered:  ['This', 'sample', 'sentence', ',', 'showing', 'stop', 'words', 'filtration', '.'] \n",
      "Unfiltered:  ['This', 'is', 'a', 'sample', 'sentence', ',', 'showing', 'off', 'the', 'stop', 'words', 'filtration', '.']\n"
     ]
    }
   ],
   "source": [
    "# Create a filtered version of 'ex_sentence' sentence\n",
    "filtered_sentence = [w for w in word_tokens if w not in stop_words]\n",
    "\n",
    "print('Filtered: ', filtered_sentence, '\\nUnfiltered: ', word_tokens)"
   ]
  }
 ],
 "metadata": {
  "kernelspec": {
   "display_name": "Python 3",
   "language": "python",
   "name": "python3"
  },
  "language_info": {
   "codemirror_mode": {
    "name": "ipython",
    "version": 3
   },
   "file_extension": ".py",
   "mimetype": "text/x-python",
   "name": "python",
   "nbconvert_exporter": "python",
   "pygments_lexer": "ipython3",
   "version": "3.6.2"
  }
 },
 "nbformat": 4,
 "nbformat_minor": 2
}
