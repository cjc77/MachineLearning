{
 "cells": [
  {
   "cell_type": "markdown",
   "metadata": {},
   "source": [
    "<h1>5 Word Net</h1>"
   ]
  },
  {
   "cell_type": "markdown",
   "metadata": {},
   "source": [
    "<h1>5.1 Senses and Synonyms</h1>"
   ]
  },
  {
   "cell_type": "code",
   "execution_count": 2,
   "metadata": {},
   "outputs": [
    {
     "name": "stdout",
     "output_type": "stream",
     "text": [
      "[Synset('car.n.01')]\n",
      "[Synset('car.n.01'), Synset('car.n.02'), Synset('car.n.03'), Synset('car.n.04'), Synset('cable_car.n.01')]\n"
     ]
    }
   ],
   "source": [
    "from nltk.corpus import wordnet as wn\n",
    "\n",
    "# Check if \"motorcar\" and \"car\" have any \n",
    "# elements of their synsets in common\n",
    "m_car = wn.synsets(\"motorcar\")\n",
    "car = wn.synsets(\"car\")\n",
    "print(m_car)\n",
    "print(car)"
   ]
  },
  {
   "cell_type": "code",
   "execution_count": 3,
   "metadata": {
    "scrolled": true
   },
   "outputs": [
    {
     "name": "stdout",
     "output_type": "stream",
     "text": [
      "Synset('car.n.01')\n",
      "[['car', 'auto', 'automobile', 'machine', 'motorcar']]\n"
     ]
    }
   ],
   "source": [
    "# Which synset(s) do motorcar and car have in common?\n",
    "ss_in_common = [ss for ss in car if ss in m_car]\n",
    "print(ss_in_common[0])\n",
    "\n",
    "# a = str(ss_in_common[0])\n",
    "# # Get rid on\n",
    "# print(a[8:-2])\n",
    "\n",
    "# Find other words related via this synset\n",
    "related_words = []\n",
    "for ss in ss_in_common:\n",
    "    str_ss = str(ss)\n",
    "    related_words.append(wn.synset(str_ss[8:-2]).lemma_names())\n",
    "print(related_words)"
   ]
  },
  {
   "cell_type": "markdown",
   "metadata": {},
   "source": [
    "<h3>Prose Definitions/Example Sentences</h3>"
   ]
  },
  {
   "cell_type": "code",
   "execution_count": 7,
   "metadata": {},
   "outputs": [
    {
     "name": "stdout",
     "output_type": "stream",
     "text": [
      "a motor vehicle with four wheels; usually propelled by an internal combustion engine\n",
      "['he needs a car to get to work']\n"
     ]
    }
   ],
   "source": [
    "print(wn.synset(\"car.n.01\").definition())\n",
    "print(wn.synset(\"car.n.01\").examples())\n"
   ]
  },
  {
   "cell_type": "markdown",
   "metadata": {},
   "source": [
    "<h3>Lemmas</h3>\n",
    "<p>Pairing of a synset with a word is called a lemma</p>"
   ]
  },
  {
   "cell_type": "code",
   "execution_count": 15,
   "metadata": {},
   "outputs": [
    {
     "name": "stdout",
     "output_type": "stream",
     "text": [
      "[Lemma('car.n.01.car'), Lemma('car.n.01.auto'), Lemma('car.n.01.automobile'), Lemma('car.n.01.machine'), Lemma('car.n.01.motorcar')]\n",
      "\n",
      "\n",
      "\n",
      "Lemma('car.n.01.automobile')\n",
      "\n",
      "\n",
      "\n",
      "Synset('car.n.01')\n",
      "\n",
      "\n",
      "\n",
      "automobile\n"
     ]
    }
   ],
   "source": [
    "print(wn.synset(\"car.n.01\").lemmas())\n",
    "print('\\n\\n')\n",
    "print(wn.lemma(\"car.n.01.automobile\"))\n",
    "print('\\n\\n')\n",
    "print(wn.lemma(\"car.n.01.automobile\").synset())\n",
    "print('\\n\\n')\n",
    "print(wn.lemma(\"car.n.01.automobile\").name())"
   ]
  },
  {
   "cell_type": "code",
   "execution_count": 19,
   "metadata": {},
   "outputs": [
    {
     "name": "stdout",
     "output_type": "stream",
     "text": [
      "[Synset('car.n.01'), Synset('car.n.02'), Synset('car.n.03'), Synset('car.n.04'), Synset('cable_car.n.01')]\n",
      "\n",
      "\n",
      "\n",
      "Synset('car.n.01'): ['car', 'auto', 'automobile', 'machine', 'motorcar']\n",
      "Synset('car.n.02'): ['car', 'railcar', 'railway_car', 'railroad_car']\n",
      "Synset('car.n.03'): ['car', 'gondola']\n",
      "Synset('car.n.04'): ['car', 'elevator_car']\n",
      "Synset('cable_car.n.01'): ['cable_car', 'car']\n"
     ]
    }
   ],
   "source": [
    "# Car is ambiguous and has 5 synsets\n",
    "print(wn.synsets(\"car\"))\n",
    "print('\\n\\n')\n",
    "for synset in wn.synsets(\"car\"):\n",
    "    print(synset, synset.lemma_names(), sep=\": \")"
   ]
  },
  {
   "cell_type": "markdown",
   "metadata": {},
   "source": [
    "<h3>Access Lemas Involving the Word Car</h3>"
   ]
  },
  {
   "cell_type": "code",
   "execution_count": 20,
   "metadata": {},
   "outputs": [
    {
     "name": "stdout",
     "output_type": "stream",
     "text": [
      "[Lemma('car.n.01.car'), Lemma('car.n.02.car'), Lemma('car.n.03.car'), Lemma('car.n.04.car'), Lemma('cable_car.n.01.car')]\n"
     ]
    }
   ],
   "source": [
    "print(wn.lemmas(\"car\"))"
   ]
  },
  {
   "cell_type": "markdown",
   "metadata": {},
   "source": [
    "<h1>5.2 The WordNet Hierarchy</h1>"
   ]
  },
  {
   "cell_type": "markdown",
   "metadata": {},
   "source": [
    "<h3>Fragment of WordNet Concept Hierarchy</h3>\n",
    "<p>Relationships between superordinates and subordinates</p>"
   ]
  },
  {
   "cell_type": "markdown",
   "metadata": {},
   "source": [
    "<img src=\"../Images/wordnet-hierarchy.png\">"
   ]
  },
  {
   "cell_type": "code",
   "execution_count": 32,
   "metadata": {},
   "outputs": [
    {
     "name": "stdout",
     "output_type": "stream",
     "text": [
      "Synset('ambulance.n.01')\n",
      "['Model_T', 'S.U.V.', 'SUV', 'Stanley_Steamer', 'ambulance', 'beach_waggon', 'beach_wagon', 'bus', 'cab', 'compact', 'compact_car', 'convertible', 'coupe', 'cruiser', 'electric', 'electric_automobile', 'electric_car', 'estate_car', 'gas_guzzler', 'hack', 'hardtop', 'hatchback', 'heap', 'horseless_carriage', 'hot-rod', 'hot_rod', 'jalopy', 'jeep', 'landrover', 'limo', 'limousine', 'loaner', 'minicar', 'minivan', 'pace_car', 'patrol_car', 'phaeton', 'police_car', 'police_cruiser', 'prowl_car', 'race_car', 'racer', 'racing_car', 'roadster', 'runabout', 'saloon', 'secondhand_car', 'sedan', 'sport_car', 'sport_utility', 'sport_utility_vehicle', 'sports_car', 'squad_car', 'station_waggon', 'station_wagon', 'stock_car', 'subcompact', 'subcompact_car', 'taxi', 'taxicab', 'tourer', 'touring_car', 'two-seater', 'used-car', 'waggon', 'wagon']\n"
     ]
    }
   ],
   "source": [
    "motorcar = wn.synset(\"car.n.01\")\n",
    "# Words that are hyponyms (subordinates) of motorcar\n",
    "types_of_motorcar = motorcar.hyponyms()\n",
    "print(types_of_motorcar[0])\n",
    "\n",
    "print(sorted(lemma.name() for synset in types_of_motorcar\n",
    "       for lemma in synset.lemmas()))"
   ]
  },
  {
   "cell_type": "code",
   "execution_count": 40,
   "metadata": {},
   "outputs": [
    {
     "name": "stdout",
     "output_type": "stream",
     "text": [
      "[Synset('motor_vehicle.n.01')]\n",
      "\n",
      "\n",
      " ['entity.n.01', 'physical_entity.n.01', 'object.n.01', 'whole.n.02', 'artifact.n.01', 'instrumentality.n.03', 'container.n.01', 'wheeled_vehicle.n.01', 'self-propelled_vehicle.n.01', 'motor_vehicle.n.01', 'car.n.01']\n",
      "\n",
      "\n",
      " ['entity.n.01', 'physical_entity.n.01', 'object.n.01', 'whole.n.02', 'artifact.n.01', 'instrumentality.n.03', 'conveyance.n.03', 'vehicle.n.01', 'wheeled_vehicle.n.01', 'self-propelled_vehicle.n.01', 'motor_vehicle.n.01', 'car.n.01']\n"
     ]
    }
   ],
   "source": [
    "# Words that are hypernyms (superordinates) of motocar\n",
    "print(motorcar.hypernyms())\n",
    "\n",
    "# Explore the two different paths through the concept hierarchy\n",
    "# that lead to motorcar\n",
    "paths = motorcar.hypernym_paths()\n",
    "len(paths)\n",
    "\n",
    "p1 = [synset.name() for synset in paths[0]]\n",
    "print('\\n\\n', p1)\n",
    "p2 = [synset.name() for synset in paths[1]]\n",
    "print('\\n\\n', p2)"
   ]
  },
  {
   "cell_type": "code",
   "execution_count": 42,
   "metadata": {},
   "outputs": [
    {
     "name": "stdout",
     "output_type": "stream",
     "text": [
      "[Synset('entity.n.01')]\n"
     ]
    }
   ],
   "source": [
    "# Most general hypernyms (i.e. root of hypernyms)\n",
    "print(motorcar.root_hypernyms())\n"
   ]
  },
  {
   "cell_type": "markdown",
   "metadata": {},
   "source": [
    "<h1>5.3 More Lexical Relations</h1>"
   ]
  },
  {
   "cell_type": "markdown",
   "metadata": {},
   "source": [
    "<p>Lexical Relations: Navigate up and down the \"is-a\" hierarchy</p>\n",
    "<p>Meronyms: Items to their components</p>\n",
    "<p>Holonyms: Items to the things they are contained in</p>"
   ]
  },
  {
   "cell_type": "code",
   "execution_count": 47,
   "metadata": {},
   "outputs": [
    {
     "name": "stdout",
     "output_type": "stream",
     "text": [
      "[Synset('burl.n.02'), Synset('crown.n.07'), Synset('limb.n.02'), Synset('stump.n.01'), Synset('trunk.n.01')]\n",
      "\n",
      "\n",
      "\n",
      "[Synset('heartwood.n.01'), Synset('sapwood.n.01')]\n",
      "\n",
      "\n",
      "\n",
      "[Synset('forest.n.01')]\n"
     ]
    }
   ],
   "source": [
    "# Anatomical elements of a tree\n",
    "print(wn.synset(\"tree.n.01\").part_meronyms())\n",
    "print('\\n\\n')\n",
    "\n",
    "# Substance of a tree\n",
    "print(wn.synset(\"tree.n.01\").substance_meronyms())\n",
    "print('\\n\\n')\n",
    "\n",
    "# Collection of trees\n",
    "print(wn.synset(\"tree.n.01\").member_holonyms())"
   ]
  },
  {
   "cell_type": "markdown",
   "metadata": {},
   "source": [
    "<h3>A Complicated Example</h3>"
   ]
  },
  {
   "cell_type": "code",
   "execution_count": 50,
   "metadata": {},
   "outputs": [
    {
     "name": "stdout",
     "output_type": "stream",
     "text": [
      "batch.n.02 :  (often followed by `of') a large number or amount or extent\n",
      "mint.n.02 :  any north temperate plant of the genus Mentha with aromatic leaves and small mauve flowers\n",
      "mint.n.03 :  any member of the mint family of plants\n",
      "mint.n.04 :  the leaves of a mint plant used fresh or candied\n",
      "mint.n.05 :  a candy that is flavored with a mint oil\n",
      "mint.n.06 :  a plant where money is coined by authority of the government\n",
      "\n",
      "\n",
      "\n",
      "[Synset('mint.n.02')]\n",
      "[Synset('mint.n.05')]\n"
     ]
    }
   ],
   "source": [
    "# Mint has many senses\n",
    "# mint.n.04 is part of mint.n.02 and makes up mint.n.05\n",
    "for synset in wn.synsets(\"mint\", wn.NOUN):\n",
    "    print(synset.name(), \": \", synset.definition())\n",
    "\n",
    "print(\"\\n\\n\")\n",
    "print(wn.synset(\"mint.n.04\").part_holonyms())\n",
    "print(wn.synset(\"mint.n.04\").substance_holonyms())"
   ]
  },
  {
   "cell_type": "markdown",
   "metadata": {},
   "source": [
    "<h3>Relationships Between Verbs</h3>\n",
    "<p>Certain verbs entail certain other verbs</p>"
   ]
  },
  {
   "cell_type": "code",
   "execution_count": 53,
   "metadata": {},
   "outputs": [
    {
     "name": "stdout",
     "output_type": "stream",
     "text": [
      "[Synset('step.v.01')]\n",
      "[Synset('chew.v.01'), Synset('swallow.v.01')]\n",
      "[Synset('arouse.v.07'), Synset('disappoint.v.01')]\n"
     ]
    }
   ],
   "source": [
    "print(wn.synset(\"walk.v.01\").entailments())\n",
    "print(wn.synset(\"eat.v.01\").entailments())\n",
    "\n",
    "print(wn.synset(\"tease.v.03\").entailments())"
   ]
  },
  {
   "cell_type": "code",
   "execution_count": 54,
   "metadata": {
    "scrolled": true
   },
   "outputs": [
    {
     "name": "stdout",
     "output_type": "stream",
     "text": [
      "[Lemma('demand.n.02.demand')]\n",
      "[Lemma('linger.v.04.linger')]\n",
      "[Lemma('inclined.a.02.inclined'), Lemma('vertical.a.01.vertical')]\n",
      "[Lemma('legato.r.01.legato')]\n"
     ]
    }
   ],
   "source": [
    "print(wn.lemma(\"supply.n.02.supply\").antonyms())\n",
    "print(wn.lemma(\"rush.v.01.rush\").antonyms())\n",
    "print(wn.lemma(\"horizontal.a.01.horizontal\").antonyms())\n",
    "print(wn.lemma(\"staccato.r.01.staccato\").antonyms())"
   ]
  },
  {
   "cell_type": "markdown",
   "metadata": {},
   "source": [
    "<h1>5.4 Semantic Similarity</h1>"
   ]
  },
  {
   "cell_type": "code",
   "execution_count": null,
   "metadata": {},
   "outputs": [],
   "source": []
  }
 ],
 "metadata": {
  "kernelspec": {
   "display_name": "Python 3",
   "language": "python",
   "name": "python3"
  },
  "language_info": {
   "codemirror_mode": {
    "name": "ipython",
    "version": 3
   },
   "file_extension": ".py",
   "mimetype": "text/x-python",
   "name": "python",
   "nbconvert_exporter": "python",
   "pygments_lexer": "ipython3",
   "version": "3.6.2"
  }
 },
 "nbformat": 4,
 "nbformat_minor": 2
}
