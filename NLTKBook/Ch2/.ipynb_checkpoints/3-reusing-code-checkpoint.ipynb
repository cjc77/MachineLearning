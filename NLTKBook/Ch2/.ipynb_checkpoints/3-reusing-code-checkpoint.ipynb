{
 "cells": [
  {
   "cell_type": "markdown",
   "metadata": {},
   "source": [
    "<h1>3 Reusing Code</h1>"
   ]
  },
  {
   "cell_type": "markdown",
   "metadata": {},
   "source": [
    "<h1>3.2 Functions</h1>"
   ]
  },
  {
   "cell_type": "markdown",
   "metadata": {},
   "source": [
    "<h3>Pluralize a Noun</h3>"
   ]
  },
  {
   "cell_type": "code",
   "execution_count": 60,
   "metadata": {},
   "outputs": [],
   "source": [
    "import os, imp\n",
    "\n",
    "def load_src(file_dir, module):\n",
    "    path = os.path.join(os.path.dirname(\"__file__\"), file_dir)\n",
    "    return imp.load_source(module + \".py\",path)\n",
    "\n",
    "text_analysis = \"../Tools/text_analysis.py\"\n",
    "ta = load_src(text_analysis, \"text_analysis\")\n",
    "language_mod = \"../Tools/language_mod.py\"\n",
    "lm = load_src(language_mod, \"language_mod\")\n"
   ]
  },
  {
   "cell_type": "code",
   "execution_count": 61,
   "metadata": {},
   "outputs": [
    {
     "name": "stdout",
     "output_type": "stream",
     "text": [
      "dogs\n",
      "buildings\n",
      "automatons\n"
     ]
    }
   ],
   "source": [
    "print(lm.plural(\"dog\"))\n",
    "print(lm.plural(\"building\"))\n",
    "\n",
    "# Doesn't work for this word\n",
    "print(lm.plural(\"automaton\"))"
   ]
  }
 ],
 "metadata": {
  "kernelspec": {
   "display_name": "Python 3",
   "language": "python",
   "name": "python3"
  },
  "language_info": {
   "codemirror_mode": {
    "name": "ipython",
    "version": 3
   },
   "file_extension": ".py",
   "mimetype": "text/x-python",
   "name": "python",
   "nbconvert_exporter": "python",
   "pygments_lexer": "ipython3",
   "version": "3.6.2"
  }
 },
 "nbformat": 4,
 "nbformat_minor": 2
}
