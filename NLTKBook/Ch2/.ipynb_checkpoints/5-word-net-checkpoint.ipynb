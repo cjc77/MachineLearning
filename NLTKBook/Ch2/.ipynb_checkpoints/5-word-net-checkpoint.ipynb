{
 "cells": [
  {
   "cell_type": "markdown",
   "metadata": {},
   "source": [
    "<h1>5 Word Net</h1>"
   ]
  },
  {
   "cell_type": "markdown",
   "metadata": {},
   "source": [
    "<h1>5.1 Senses and Synonyms</h1>"
   ]
  },
  {
   "cell_type": "code",
   "execution_count": 6,
   "metadata": {},
   "outputs": [
    {
     "name": "stdout",
     "output_type": "stream",
     "text": [
      "[Synset('car.n.01')]\n",
      "[Synset('car.n.01'), Synset('car.n.02'), Synset('car.n.03'), Synset('car.n.04'), Synset('cable_car.n.01')]\n"
     ]
    }
   ],
   "source": [
    "from nltk.corpus import wordnet as wn\n",
    "\n",
    "# Check if \"motorcar\" and \"car\" have any \n",
    "# elements of their synsets in common\n",
    "m_car = wn.synsets(\"motorcar\")\n",
    "car = wn.synsets(\"car\")\n",
    "print(m_car)\n",
    "print(car)"
   ]
  },
  {
   "cell_type": "code",
   "execution_count": 30,
   "metadata": {},
   "outputs": [
    {
     "name": "stdout",
     "output_type": "stream",
     "text": [
      "Synset('car.n.01')\n",
      "[['car', 'auto', 'automobile', 'machine', 'motorcar']]\n"
     ]
    }
   ],
   "source": [
    "# Which synset(s) do motorcar and car have in common?\n",
    "ss_in_common = [ss for ss in car if ss in m_car]\n",
    "print(ss_in_common[0])\n",
    "\n",
    "# a = str(ss_in_common[0])\n",
    "# # Get rid on\n",
    "# print(a[8:-2])\n",
    "\n",
    "# Find other words related via this synset\n",
    "related_words = []\n",
    "for ss in ss_in_common:\n",
    "    str_ss = str(ss)\n",
    "    related_words.append(wn.synset(str_ss[8:-2]).lemma_names())\n",
    "print(related_words)"
   ]
  }
 ],
 "metadata": {
  "kernelspec": {
   "display_name": "Python 3",
   "language": "python",
   "name": "python3"
  },
  "language_info": {
   "codemirror_mode": {
    "name": "ipython",
    "version": 3
   },
   "file_extension": ".py",
   "mimetype": "text/x-python",
   "name": "python",
   "nbconvert_exporter": "python",
   "pygments_lexer": "ipython3",
   "version": "3.6.2"
  }
 },
 "nbformat": 4,
 "nbformat_minor": 2
}
