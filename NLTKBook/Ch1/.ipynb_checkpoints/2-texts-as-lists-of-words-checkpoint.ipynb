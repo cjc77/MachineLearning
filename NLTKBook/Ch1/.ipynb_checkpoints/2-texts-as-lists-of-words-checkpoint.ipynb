{
 "cells": [
  {
   "cell_type": "markdown",
   "metadata": {},
   "source": [
    "<h1>2 A Closer Look at Python: Texts as Lists of Words</h1>"
   ]
  },
  {
   "cell_type": "markdown",
   "metadata": {},
   "source": [
    "<h1>2.1 Lists</h1>"
   ]
  },
  {
   "cell_type": "code",
   "execution_count": 1,
   "metadata": {},
   "outputs": [
    {
     "name": "stdout",
     "output_type": "stream",
     "text": [
      "*** Introductory Examples for the NLTK Book ***\n",
      "Loading text1, ..., text9 and sent1, ..., sent9\n",
      "Type the name of the text or sentence to view it.\n",
      "Type: 'texts()' or 'sents()' to list the materials.\n",
      "text1: Moby Dick by Herman Melville 1851\n",
      "text2: Sense and Sensibility by Jane Austen 1811\n",
      "text3: The Book of Genesis\n",
      "text4: Inaugural Address Corpus\n",
      "text5: Chat Corpus\n",
      "text6: Monty Python and the Holy Grail\n",
      "text7: Wall Street Journal\n",
      "text8: Personals Corpus\n",
      "text9: The Man Who Was Thursday by G . K . Chesterton 1908\n"
     ]
    }
   ],
   "source": [
    "import nltk\n",
    "from nltk.book import *"
   ]
  },
  {
   "cell_type": "markdown",
   "metadata": {},
   "source": [
    "<h3>Apply lexical_diversity() to a list of strings.</h3>"
   ]
  },
  {
   "cell_type": "code",
   "execution_count": 5,
   "metadata": {},
   "outputs": [
    {
     "name": "stdout",
     "output_type": "stream",
     "text": [
      "['Call', 'me', 'Ishmael', '.']\n",
      "['The', 'family', 'of', 'Dashwood', 'had', 'long', 'been', 'settled', 'in', 'Sussex', '.']\n",
      "['In', 'the', 'beginning', 'God', 'created', 'the', 'heaven', 'and', 'the', 'earth', '.']\n",
      "['They', 'call', 'me', 'mister', 'pig', '.']\n"
     ]
    }
   ],
   "source": [
    "from Ch1Tools import text_analysis as ta\n",
    "\n",
    "sent1 = [\"Call\", \"me\", \"Ishmael\", \".\"]\n",
    "\n",
    "# Find the length of this sentence\n",
    "len(sent1)\n",
    "\n",
    "# Find the lexical diversity of this sentence\n",
    "ta.lexical_diversity(sent1)\n",
    "\n",
    "# Print out sentences\n",
    "print(sent1)\n",
    "print(sent2)\n",
    "print(sent3)\n",
    "\n",
    "# Make your own sentence\n",
    "sent4_raw = \"They call me mister pig.\"\n",
    "sent4 = nltk.word_tokenize(sent4_raw)\n",
    "print(sent4)"
   ]
  },
  {
   "cell_type": "markdown",
   "metadata": {},
   "source": [
    "<h1>2.2 Indexing Lists</h1>"
   ]
  },
  {
   "cell_type": "code",
   "execution_count": 11,
   "metadata": {},
   "outputs": [
    {
     "name": "stdout",
     "output_type": "stream",
     "text": [
      "4\n",
      "['call', 'me']\n",
      "['me', 'mister']\n"
     ]
    }
   ],
   "source": [
    "# Find index of where a word first occurs\n",
    "print(sent4.index(\"pig\"))\n",
    "\n",
    "# Slice up the list\n",
    "# [m, n-1]\n",
    "print(sent4[1:3])\n",
    "\n",
    "# Make only part of a sentence\n",
    "sent4_range = sent4[2:4]\n",
    "print(sent4_range)"
   ]
  }
 ],
 "metadata": {
  "kernelspec": {
   "display_name": "Python 3",
   "language": "python",
   "name": "python3"
  },
  "language_info": {
   "codemirror_mode": {
    "name": "ipython",
    "version": 3
   },
   "file_extension": ".py",
   "mimetype": "text/x-python",
   "name": "python",
   "nbconvert_exporter": "python",
   "pygments_lexer": "ipython3",
   "version": "3.6.2"
  }
 },
 "nbformat": 4,
 "nbformat_minor": 2
}
