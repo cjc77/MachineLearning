{
 "cells": [
  {
   "cell_type": "markdown",
   "metadata": {},
   "source": [
    "<h1>5   Automatic Natural Language Understanding</h1>"
   ]
  },
  {
   "cell_type": "markdown",
   "metadata": {},
   "source": [
    "<h1>5.1 Word Sense Disambiguation</h1>"
   ]
  },
  {
   "cell_type": "markdown",
   "metadata": {},
   "source": [
    "<p>Which sense of a word was intended in a given context. Consider the ambiguous words serve and dish:</p>\n",
    "\n",
    "<ul>\n",
    "    <li>serve: help with food or drink; hold an office; put ball into play</li>\n",
    "    <li>dish: plate; course of a meal; communications device</li>\n",
    "</ul>\n",
    "\n",
    "<p>Contextual effect on the word \"by\":</p>\n",
    "\n",
    "<ul>\n",
    "    <li>The lost children were found by the searchers (agentive)</li>\n",
    "    <li>The lost children were found by the mountain (locative)</li>\n",
    "    <li>The lost children were found by the afternoon (temporal)</li>\n",
    "</ul>"
   ]
  },
  {
   "cell_type": "markdown",
   "metadata": {},
   "source": [
    "<h1>5.2 Pronoun Resolution</h1>"
   ]
  },
  {
   "cell_type": "markdown",
   "metadata": {},
   "source": [
    "<p>\"Who did what to whom\" - detect the subjects and objects of verbs.</p>\n",
    "<ul>\n",
    "    <li>The thieves stole the paintings. They were subsequently sold.</li>\n",
    "    <li>The thieves stole the paintings. They were subsequently caught.</li>\n",
    "    <li>The thieves stole the paintings. They were subsequently found.</li>\n",
    "</ul>\n",
    "\n",
    "<p>Answering this question involves finding the antecedent of the pronoun they, either thieves or paintings. Computational techniques for tackling this problem include anaphora resolution — identifying what a pronoun or noun phrase refers to — and semantic role labeling — identifying how a noun phrase relates to the verb (as agent, patient, instrument, and so on).</p>"
   ]
  },
  {
   "cell_type": "markdown",
   "metadata": {},
   "source": [
    "<h1>5.3   Generating Language Output</h1>"
   ]
  },
  {
   "cell_type": "markdown",
   "metadata": {},
   "source": [
    "<p>If we can automatically solve such problems of language understanding, we will be able to move on to tasks that involve generating language output, such as question answering and machine translation. In the first case, a machine should be able to answer a user's questions relating to collection of texts:</p>\n",
    "<ul>\n",
    "    <li>Text: ... The thieves stole the paintings. They were subsequently sold. ...</li>\n",
    "    <li>Human: Who or what was sold?</li>\n",
    "    <li>Machine: The paintings.</li>\n",
    "</ul>\n",
    "\n",
    "<p>The machine's answer demonstrates that it has correctly worked out that they refers to paintings and not to thieves. In the second case, the machine should be able to translate the text into another language, accurately conveying the meaning of the original text. In translating the example text into French, we are forced to choose the gender of the pronoun in the second sentence: ils (masculine) if the thieves are found, and elles (feminine) if the paintings are found. Correct translation actually depends on correct understanding of the pronoun.</p>\n",
    "<ul>\n",
    "    <li>The thieves stole the paintings. They were subsequently found.</li>\n",
    "    <li>Les voleurs ont volé les peintures. Ils ont été trouvés plus tard. (the thieves)</li>\n",
    "    <li>Les voleurs ont volé les peintures. Elles ont été trouvées plus tard. (the paintings)</li>\n",
    "</ul>\n",
    "\n",
    "<p>In all of these examples, working out the sense of a word, the subject of a verb, and the antecedent of a pronoun are steps in establishing the meaning of a sentence, things we would expect a language understanding system to be able to do.</p>"
   ]
  }
 ],
 "metadata": {
  "kernelspec": {
   "display_name": "Python 3",
   "language": "python",
   "name": "python3"
  },
  "language_info": {
   "codemirror_mode": {
    "name": "ipython",
    "version": 3
   },
   "file_extension": ".py",
   "mimetype": "text/x-python",
   "name": "python",
   "nbconvert_exporter": "python",
   "pygments_lexer": "ipython3",
   "version": "3.6.2"
  }
 },
 "nbformat": 4,
 "nbformat_minor": 2
}
