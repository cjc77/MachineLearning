{
 "cells": [
  {
   "cell_type": "markdown",
   "metadata": {},
   "source": [
    "Reference: http://www.oranlooney.com/post/ml-from-scratch-part-1-linear-regression/"
   ]
  },
  {
   "cell_type": "code",
   "execution_count": 1,
   "metadata": {},
   "outputs": [],
   "source": [
    "import numpy as np\n",
    "from numpy.linalg import norm as norm"
   ]
  },
  {
   "cell_type": "code",
   "execution_count": 28,
   "metadata": {},
   "outputs": [],
   "source": [
    "def householder_reflection(a, e):\n",
    "    u = a - np.sign(a[0]) * norm(a) * e\n",
    "    v = u / norm(u)\n",
    "    H = np.identity(len(a)) - 2 * np.outer(v, v)\n",
    "    return H"
   ]
  },
  {
   "cell_type": "code",
   "execution_count": 33,
   "metadata": {},
   "outputs": [],
   "source": [
    "def qr_decomposition(A):\n",
    "    m, n = A.shape\n",
    "    # A must have more rows than columns\n",
    "    assert m >= n\n",
    "    \n",
    "    Q = np.identity(m)\n",
    "    R = A.copy()\n",
    "    \n",
    "    # If matrix is square, can stop at m - 1\n",
    "    square = int(m == n)\n",
    "    for i in range(n - square):\n",
    "        r = R[i:, i]\n",
    "        # No need to zero out entries that are already zero\n",
    "        if np.allclose(r[1:], 0.0):\n",
    "            continue\n",
    "        \n",
    "        e = np.zeros(m - i)\n",
    "        e[0] = 1\n",
    "        \n",
    "        H = np.identity(m)\n",
    "        H[i:, i:] = householder_reflection(r, e)\n",
    "        Q = Q @ H.T\n",
    "        R = H @ R\n",
    "    return Q, R"
   ]
  },
  {
   "cell_type": "code",
   "execution_count": 34,
   "metadata": {},
   "outputs": [],
   "source": [
    "def solve_triangular(A, b):\n",
    "    # Solve Ax = b when A is upper triangular & square\n",
    "    \n",
    "    m, n = A.shape\n",
    "    x = b[(n - 1):n] / A[n - 1, n - 1]\n",
    "    \n",
    "    for i in range(n - 2, -1, -1):\n",
    "        back_subs = np.dot(A[i, (i + 1):], x)\n",
    "        rhs = b[i] - back_subs\n",
    "        x_i = rhs / A[i, i]\n",
    "        x = np.insert(x, 0, x_i)\n",
    "\n",
    "    return x"
   ]
  },
  {
   "cell_type": "code",
   "execution_count": null,
   "metadata": {},
   "outputs": [],
   "source": []
  },
  {
   "cell_type": "code",
   "execution_count": null,
   "metadata": {},
   "outputs": [],
   "source": []
  },
  {
   "cell_type": "code",
   "execution_count": null,
   "metadata": {},
   "outputs": [],
   "source": []
  },
  {
   "cell_type": "code",
   "execution_count": null,
   "metadata": {},
   "outputs": [],
   "source": []
  },
  {
   "cell_type": "code",
   "execution_count": null,
   "metadata": {},
   "outputs": [],
   "source": []
  },
  {
   "cell_type": "code",
   "execution_count": null,
   "metadata": {},
   "outputs": [],
   "source": []
  },
  {
   "cell_type": "code",
   "execution_count": null,
   "metadata": {},
   "outputs": [],
   "source": []
  },
  {
   "cell_type": "code",
   "execution_count": null,
   "metadata": {},
   "outputs": [],
   "source": []
  },
  {
   "cell_type": "code",
   "execution_count": null,
   "metadata": {},
   "outputs": [],
   "source": []
  },
  {
   "cell_type": "code",
   "execution_count": null,
   "metadata": {},
   "outputs": [],
   "source": []
  },
  {
   "cell_type": "code",
   "execution_count": null,
   "metadata": {},
   "outputs": [],
   "source": []
  }
 ],
 "metadata": {
  "kernelspec": {
   "display_name": "Python 3",
   "language": "python",
   "name": "python3"
  },
  "language_info": {
   "codemirror_mode": {
    "name": "ipython",
    "version": 3
   },
   "file_extension": ".py",
   "mimetype": "text/x-python",
   "name": "python",
   "nbconvert_exporter": "python",
   "pygments_lexer": "ipython3",
   "version": "3.7.0"
  }
 },
 "nbformat": 4,
 "nbformat_minor": 2
}
