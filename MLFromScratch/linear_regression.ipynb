{
 "cells": [
  {
   "cell_type": "markdown",
   "metadata": {},
   "source": [
    "$\n",
    "\\let\\oldhat\\hat\n",
    "\\renewcommand{\\vec}[1]{\\mathbf{#1}}\n",
    "$"
   ]
  },
  {
   "cell_type": "code",
   "execution_count": 1,
   "metadata": {},
   "outputs": [],
   "source": [
    "import numpy as np\n",
    "from numpy.linalg import solve\n",
    "\n",
    "np.random.seed(123)\n",
    "ndarray = np.ndarray"
   ]
  },
  {
   "cell_type": "markdown",
   "metadata": {},
   "source": [
    "# Create simulated data\n",
    "\n",
    "We randomly generate parameters $\\vec{w}_{true}$ and $b_{true}$, as well as a simulated dataset, $\\vec{X}_{train}$. Because we would like to verify our results, we do not add any random noise when computing $\\vec{y}$. We simply set $\\vec{y} = \\vec{X} \\vec{w}_{true} + \\vec{b}_{true}$. This approach allows us to compare the simulated parameters to those found by our model.\n",
    "\n",
    "*Note that $\\vec{b}_{true}$ is interpreted mathematically as $\\langle b_{true}, b_{true}, \\dotso,b_{true} \\rangle^T$. In `NumPy`, we do not have to worry about this since $\\vec{X}\\vec{w} + b$ is defined as $b$ added element-wise to $\\vec{X}\\vec{w}$."
   ]
  },
  {
   "cell_type": "code",
   "execution_count": 2,
   "metadata": {},
   "outputs": [],
   "source": [
    "N = 100\n",
    "d = 10\n",
    "wbx_mu = 0\n",
    "w_sd = 2\n",
    "bx_sd = 10\n",
    "\n",
    "# 10 features plus bias\n",
    "w_true = np.random.normal(loc=wbx_mu, scale=w_sd, size=(d,))\n",
    "b_true = np.random.normal(loc=wbx_mu, scale=bx_sd)\n",
    "\n",
    "# Generate training data and labels\n",
    "X_train = np.random.normal(loc=wbx_mu, scale=bx_sd, size=(N, d))\n",
    "y_train = X_train @ w_true + b_true"
   ]
  },
  {
   "cell_type": "markdown",
   "metadata": {},
   "source": [
    "# Create a linear regression model"
   ]
  },
  {
   "cell_type": "code",
   "execution_count": 3,
   "metadata": {},
   "outputs": [],
   "source": [
    "class LinearRegression:\n",
    "    def __init__(self):\n",
    "        self.w: ndarray = np.array([])\n",
    "        self.b: float = 0.0\n",
    "            \n",
    "    @classmethod\n",
    "    def from_fit(cls, X, y):\n",
    "        lr = cls()\n",
    "        lr.fit(X, y)\n",
    "        return lr\n",
    "    \n",
    "    def fit(self, X, y) -> None:\n",
    "        # take bias into account\n",
    "        X = np.concatenate((X, np.ones(shape=(X.shape[0], 1))), axis=1)\n",
    "        res = solve(X.T @ X, X.T @ y)\n",
    "        self.w = res[:-1]\n",
    "        self.b = res[-1]\n",
    "    \n",
    "    def predict(self, X) -> ndarray:\n",
    "        return X @ self.w + self.b"
   ]
  },
  {
   "cell_type": "markdown",
   "metadata": {},
   "source": [
    "# Instantiate and fit the model\n",
    "\n",
    "We check to see that the parameters of our model match those that were used to create the simulated data."
   ]
  },
  {
   "cell_type": "code",
   "execution_count": 4,
   "metadata": {},
   "outputs": [
    {
     "name": "stdout",
     "output_type": "stream",
     "text": [
      "Results:\n",
      "w_true = w_comp: True\n",
      "b_true = b_comp: True\n"
     ]
    }
   ],
   "source": [
    "lr = LinearRegression.from_fit(X_train, y_train)\n",
    "print((f\"Results:\\n\"\n",
    "       f\"w_true = w_comp: {np.allclose(w_true, lr.w)}\\n\"\n",
    "       f\"b_true = b_comp: {np.allclose(b_true, lr.b)}\"))"
   ]
  },
  {
   "cell_type": "markdown",
   "metadata": {},
   "source": [
    "# Create some new data"
   ]
  },
  {
   "cell_type": "code",
   "execution_count": 5,
   "metadata": {},
   "outputs": [],
   "source": [
    "X_test = np.random.normal(loc=wbx_mu, scale=bx_sd, size=(N, d))\n",
    "y_test = X_test @ w_true + b_true"
   ]
  },
  {
   "cell_type": "markdown",
   "metadata": {},
   "source": [
    "# Make predictions using our model\n",
    "\n",
    "Our predictions should be perfect, given that the test data is created using $\\vec{w}_{true}$ and $b_{true}$."
   ]
  },
  {
   "cell_type": "code",
   "execution_count": 6,
   "metadata": {},
   "outputs": [
    {
     "name": "stdout",
     "output_type": "stream",
     "text": [
      "y_true = y_comp: True\n"
     ]
    }
   ],
   "source": [
    "y_pred = lr.predict(X_test)\n",
    "print(f\"y_true = y_comp: {np.allclose(y_pred, y_test)}\")"
   ]
  }
 ],
 "metadata": {
  "kernelspec": {
   "display_name": "Python 3",
   "language": "python",
   "name": "python3"
  },
  "language_info": {
   "codemirror_mode": {
    "name": "ipython",
    "version": 3
   },
   "file_extension": ".py",
   "mimetype": "text/x-python",
   "name": "python",
   "nbconvert_exporter": "python",
   "pygments_lexer": "ipython3",
   "version": "3.7.3"
  }
 },
 "nbformat": 4,
 "nbformat_minor": 4
}
