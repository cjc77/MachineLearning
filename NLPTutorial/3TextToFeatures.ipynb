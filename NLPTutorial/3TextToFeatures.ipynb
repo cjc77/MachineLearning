{
 "cells": [
  {
   "cell_type": "markdown",
   "metadata": {},
   "source": [
    "<h1>3 Text to Features (Feature Engineering on Text Data)</h1>\n",
    "<p>To analyze preprocessed data, it must be converted into features. There are multiple techniques:</p>\n",
    "<ul>\n",
    "    <li>Syntactic Parsing</li>\n",
    "    <li>Entities</li>\n",
    "    <li>N-grams</li>\n",
    "    <li>Word-Based Features</li>\n",
    "</ul>"
   ]
  },
  {
   "cell_type": "markdown",
   "metadata": {},
   "source": [
    "<h1>3.1 Syntactic Parsing</h1>\n",
    "<p>Syntactical parsing involves analysis of words in the sentence for grammar and arrangement that shows the relationships among the words.</p>\n",
    "<p>Dependency Grammar and Part of Speech tags are important attributes of text syntactics</p>"
   ]
  },
  {
   "cell_type": "markdown",
   "metadata": {},
   "source": [
    "<h3>Dependency Grammar:</h3>\n",
    "<ul>\n",
    "    <li>Relationship among words in a sentence.</li>\n",
    "    <li>Dependency Grammar is a class of syntactic text analysis that deals with (labeled) asymmetrical binary relations between two lexical items (words).</li>\n",
    "    <li>Every relation can be represented as a triplet: (relation, governor, dependent)</li>\n",
    "</ul>"
   ]
  },
  {
   "cell_type": "markdown",
   "metadata": {},
   "source": [
    "<p>Example: “Bills on ports and immigration were submitted by Senator Brownback, Republican of Kansas.”</p>\n",
    "<img src=\"dependency-grammar.png\">"
   ]
  },
  {
   "cell_type": "markdown",
   "metadata": {},
   "source": [
    "<ul>\n",
    "    <li>The Tree shows \"submitted\" is the root word of the sentence and is linked by two sub-trees: subject and object</li>\n",
    "    <li>Each subtree is also a dependency tree</li>\n",
    "    <li>This type of tree, parsed top-down gives grammar relation triplets as output that can be used as features for nlp problems like:\n",
    "        <ul>\n",
    "            <li>entity wise sentiment analysis</li>\n",
    "            <li>actor & entrity identification</li>\n",
    "            <li>text classification</li>\n",
    "        </ul>\n",
    "    </li>\n",
    "    <li>StanfordCoreNLP (by Stanford NLP Group) and NLTK dependency grammars can be used to generate dependency trees</li>\n",
    "</ul>"
   ]
  },
  {
   "cell_type": "markdown",
   "metadata": {},
   "source": [
    "<h3>Part of Speech Tagging</h3>\n",
    "<p>Every word in a sentence is associated with a part of speech (pos) tag.</p>\n",
    "<p>Parts of Speech:</p>\n",
    "<ul>\n",
    "    <li>Nouns</li>\n",
    "    <li>Verbs</li>\n",
    "    <li>Adjectives</li>\n",
    "    <li>Adverbs</li>\n",
    "    <li>Etc.</li>\n",
    "</ul>"
   ]
  },
  {
   "cell_type": "code",
   "execution_count": 4,
   "metadata": {
    "scrolled": true
   },
   "outputs": [
    {
     "data": {
      "text/plain": [
       "[('Rex', 'NNP'),\n",
       " (',', ','),\n",
       " ('the', 'DT'),\n",
       " ('running', 'VBG'),\n",
       " ('brown', 'JJ'),\n",
       " ('dog', 'NN'),\n",
       " (',', ','),\n",
       " ('was', 'VBD'),\n",
       " ('panting', 'VBG'),\n",
       " ('loudly', 'RB'),\n",
       " ('.', '.')]"
      ]
     },
     "execution_count": 4,
     "metadata": {},
     "output_type": "execute_result"
    }
   ],
   "source": [
    "from nltk import word_tokenize, pos_tag\n",
    "\n",
    "sample_text = \"Rex, the running brown dog, was panting loudly.\"\n",
    "\n",
    "tokens = word_tokenize(sample_text)\n",
    "tagged_tokens = pos_tag(tokens)\n",
    "tagged_tokens"
   ]
  },
  {
   "cell_type": "markdown",
   "metadata": {},
   "source": [
    "<h3>A. Word Sense Disambiguation:</h3>\n",
    "<p>Some words in a language have multiple meanings according to their usage.</p>"
   ]
  },
  {
   "cell_type": "code",
   "execution_count": 5,
   "metadata": {},
   "outputs": [
    {
     "name": "stdout",
     "output_type": "stream",
     "text": [
      "Basic tokenizing/POS tagging cannot detect the difference between these two uses of 'book': \n",
      "I am going to book a flight to PDX.\n",
      "I am going to read this book on my flight to PDX.\n",
      "\n",
      "Example 1 'book': ('book', 'NN')\n",
      "\n",
      "Example 2 'book': ('book', 'NN')\n"
     ]
    }
   ],
   "source": [
    "book1 = \"I am going to book a flight to PDX.\"\n",
    "book2 = \"I am going to read this book on my flight to PDX.\"\n",
    "\n",
    "print(\"Basic tokenizing/POS tagging cannot detect the difference \" +\n",
    "      \"between these two uses of 'book': \", book1, book2, sep=\"\\n\",\n",
    "      end=\"\\n\\n\")\n",
    "\n",
    "book1_tokens = word_tokenize(book1)\n",
    "book1_tagged_tokens = pos_tag(book1_tokens)\n",
    "print(\"Example 1 'book':\", book1_tagged_tokens[4], end=\"\\n\\n\")\n",
    "\n",
    "book2_tokens = word_tokenize(book2)\n",
    "book2_tagged_tokens = pos_tag(book2_tokens)\n",
    "print(\"Example 2 'book':\", book2_tagged_tokens[6])"
   ]
  },
  {
   "cell_type": "markdown",
   "metadata": {},
   "source": [
    "<h3>Important NLP Uses of POS Tagging:</h3>"
   ]
  },
  {
   "cell_type": "markdown",
   "metadata": {},
   "source": [
    "<h3>B. Improving word-based features:</h3>\n",
    "<p>A learning model could learn different contexts of a word - but if the part of speech tag is linked with it, the context is preserved.</p>"
   ]
  },
  {
   "cell_type": "markdown",
   "metadata": {},
   "source": [
    "<h3>C. Normalization and Lemmatization:</h3>\n",
    "<p>POS tags are the basis of the lemmatization process for converting a word into its base form (lemma)</p>"
   ]
  },
  {
   "cell_type": "markdown",
   "metadata": {},
   "source": [
    "<h3>D. Efficient stopword removal:</h3>\n",
    "<p>POS tags are also useful in efficient removal of stopwords</p>\n",
    "<p>Some tags always define low-frequency/lower importance words. Ex:</p>\n",
    "<ul>\n",
    "    <li>IN (Preposition or Subordinating Conjunction): \"within\", \"upon\", ... (</li>\n",
    "    <li>CD (Cardinal Number): \"one\", \"two\", ...</li>\n",
    "    <li>MD (Modal): \"may\", \"must\", ...</li>\n",
    "</ul>"
   ]
  },
  {
   "cell_type": "markdown",
   "metadata": {},
   "source": [
    "<h1>3.2 Entity Extraction (Entities as features)</h1>\n",
    "<p>Entities are the most important chunks of a sentence - noun/verb phrases. Entity detection algorithms usually use rule-based parsing, dictionary lookups, pos tagging, and dependency parsing.</p>\n",
    "<h3>Key NLP Entity Detection Methods:</h3>"
   ]
  },
  {
   "cell_type": "markdown",
   "metadata": {},
   "source": [
    "<h3>A. Named Entity Recognition (NER)</h3>\n",
    "<p>The process of detecting named entities from text.</p>\n",
    "<p><strong>Sentence:</strong> \"Sergey Brin, the manager of Google Inc. is walking the streets of New York.\"</p>\n",
    "<p><strong>Named Entities:</strong> (\"person\": \"Sergey Brin\"), (\"org\": \"Google Inc\"), (\"location\": \"New York\")</p>\n",
    "<p>NER model consists of three blocks:</p>\n",
    "<ul>\n",
    "    <li><strong>Noun phrase identification:</strong> extracting the noun phrases using dependency parsing and POS tagging</li>\n",
    "    <li><strong>Phrase Classification:</strong> all extracted noun phrases are classified into respective categories. Resources:\n",
    "    <ul>\n",
    "        <li>Google Maps API - location disambiguation</li>\n",
    "        <li>Wikipedia - person/company names</li>\n",
    "    </ul>\n",
    "    </li>\n",
    "    <li><strong>Entity disambiguation:</strong> It is possible that entities may be misclassified, so creating a validation layer may be useful.</li>\n",
    "</ul>"
   ]
  },
  {
   "cell_type": "markdown",
   "metadata": {},
   "source": [
    "<h3>B. Topic Modeling</h3>\n",
    "<p>A Process of automatically identifying the topics present in a text corpus. Derives hidden patterns among words in the corpus in an unsupervised manner.</p>\n",
    "<ul>\n",
    "    <li><strong>Healthcare:</strong> \"health\", \"doctor\", \"patient\", \"hospital\"</li>\n",
    "    <li><strong>Farming:</strong> \"farm\", \"crops\", \"wheat\"</li>\n",
    "</ul>\n",
    "<p>Latent Dirichlet Allocation (LDA) is the most popular topic modelling technique.</p>"
   ]
  },
  {
   "cell_type": "code",
   "execution_count": 6,
   "metadata": {
    "scrolled": true
   },
   "outputs": [
    {
     "name": "stdout",
     "output_type": "stream",
     "text": [
      "[(0, '0.064*\"driving\" + 0.037*\"of\" + 0.037*\"a\" + 0.037*\"lot\" + 0.037*\"around\" + 0.037*\"spends\" + 0.037*\"time\" + 0.037*\"practice.\" + 0.037*\"dance\" + 0.037*\"father\"'), (1, '0.029*\"My\" + 0.029*\"my\" + 0.029*\"sister\" + 0.029*\"to\" + 0.029*\"cause\" + 0.029*\"blood\" + 0.029*\"suggest\" + 0.029*\"stress\" + 0.029*\"and\" + 0.029*\"may\"'), (2, '0.089*\"to\" + 0.051*\"my\" + 0.051*\"My\" + 0.051*\"sister\" + 0.051*\"Sugar\" + 0.051*\"bad\" + 0.051*\"have\" + 0.051*\"is\" + 0.051*\"not\" + 0.051*\"likes\"')]\n"
     ]
    }
   ],
   "source": [
    "import gensim\n",
    "from gensim import corpora\n",
    "\n",
    "doc1 = \"Sugar is bad to consume. My sister likes to have sugar, but not my father.\" \n",
    "doc2 = \"My father spends a lot of time driving my sister around to dance practice.\"\n",
    "doc3 = \"Doctors suggest that driving may cause increased stress and blood pressure.\"\n",
    "doc_complete = [doc1, doc2, doc3]\n",
    "doc_clean = [doc.split() for doc in doc_complete]\n",
    "\n",
    "# Create the term dictionary of the corpus, where every unique\n",
    "# term is assigned an index\n",
    "# Ex: (0, \"Sugar\"), (1, \"is\"), (2, \"bad\") ...\n",
    "dictionary = corpora.Dictionary(doc_clean)\n",
    "\n",
    "# Convert the list of documents (corpus) into a Document Term \n",
    "# Matrix using the dictionary prepared above\n",
    "# doc2bow creates bag-of-words representation:\n",
    "# list of (word_id, word_frequency)\n",
    "# [(0, 1), (1, 1), (2, 1), (3, 2), ...]\n",
    "doc_term_matrix = [dictionary.doc2bow(doc) for doc in doc_clean]\n",
    "\n",
    "# Create the object for the LDA model using the gensim library\n",
    "Lda = gensim.models.ldamodel.LdaModel\n",
    "\n",
    "# Run and train LDA model on the document term matrix\n",
    "ldamodel = Lda(doc_term_matrix, num_topics=3,\n",
    "               id2word=dictionary, passes=50)\n",
    "\n",
    "# Results\n",
    "print(ldamodel.print_topics())\n"
   ]
  },
  {
   "cell_type": "markdown",
   "metadata": {},
   "source": [
    "<h3>C. N-Grams as Features</h3>\n",
    "<p>A combination of N words together are called N-Grams. N-Grams (N > 1) are generally more informative than words (Unigrams) as features. Bigrams (N = 2) are considered the most important features.</p>"
   ]
  },
  {
   "cell_type": "code",
   "execution_count": 7,
   "metadata": {},
   "outputs": [
    {
     "name": "stdout",
     "output_type": "stream",
     "text": [
      "['this', 'sentence']\n",
      "['sentence', 'will']\n",
      "['will', 'be']\n",
      "['be', 'turned']\n",
      "['turned', 'into']\n",
      "['into', 'bigrams']\n"
     ]
    },
    {
     "data": {
      "text/plain": [
       "[('this', 'sentence'),\n",
       " ('sentence', 'will'),\n",
       " ('will', 'be'),\n",
       " ('be', 'turned'),\n",
       " ('turned', 'into'),\n",
       " ('into', 'bigrams')]"
      ]
     },
     "execution_count": 7,
     "metadata": {},
     "output_type": "execute_result"
    }
   ],
   "source": [
    "def generate_ngrams(text, n):\n",
    "    words = text.split()\n",
    "    output = []\n",
    "    for i in range(len(words) - n + 1):\n",
    "        output.append(tuple(words[i:i+n]))\n",
    "        print(words[i:i+n])\n",
    "    return output\n",
    "\n",
    "sample_text = \"this sentence will be turned into bigrams\"\n",
    "generate_ngrams(sample_text, 2)"
   ]
  },
  {
   "cell_type": "markdown",
   "metadata": {},
   "source": [
    "<h1>3.3 Statistical Features</h1>\n",
    "<p>Text data can also be quantified directly into numbers using several techniques.</p>\n",
    "<h3>A. Term Frequency - Inverse Document Frequency (TF - IDF)</h3>\n",
    "<p>TF-IDF is a weighted model commonly used for information retrieval problems. It aims to convert text documents into vector models on the basis of occurence of words in the documents without considering the exact ordering.</p>\n",
    "<p><strong>EX -</strong> there is a dataset of N text documents. In any document \"D\", TF and IDF are defined as:</p>\n",
    "<ul>\n",
    "    <li>Term Frequency (TF) - TF for a term \"t\" is defined as the count of a term \"t\" in a document \"D\"</li>\n",
    "    <li>Inverse Document Frequency (IDF) - IDF for a term \"t\" is defined as logarithm of ratio of total documents available in the corpus and number of documents containing \"t\".</li>\n",
    "    <li>TF IDF: the TF IDF formula gives the relative importance of a term in a corpus (list of documents), given by the following formula:<img src=\"TF-IDF-formula.png\"></li>\n",
    "</ul>"
   ]
  },
  {
   "cell_type": "code",
   "execution_count": 8,
   "metadata": {},
   "outputs": [
    {
     "name": "stdout",
     "output_type": "stream",
     "text": [
      "  (0, 8)\t0.274634427112\n",
      "  (0, 2)\t0.274634427112\n",
      "  (0, 7)\t0.464996505949\n",
      "  (0, 4)\t0.464996505949\n",
      "  (0, 3)\t0.464996505949\n",
      "  (0, 6)\t0.35364182827\n",
      "  (0, 1)\t0.274634427112\n",
      "  (1, 8)\t0.364544396761\n",
      "  (1, 2)\t0.364544396761\n",
      "  (1, 6)\t0.469417284322\n",
      "  (1, 1)\t0.364544396761\n",
      "  (1, 0)\t0.617227317565\n",
      "  (2, 8)\t0.412858572062\n",
      "  (2, 2)\t0.412858572062\n",
      "  (2, 1)\t0.412858572062\n",
      "  (2, 5)\t0.699030327257\n"
     ]
    }
   ],
   "source": [
    "from sklearn.feature_extraction.text import TfidfVectorizer\n",
    "\n",
    "d1 = \"This is a sort of long sample document.\"\n",
    "d2 = \"This is another sample document.\"\n",
    "d3 = \"This is a random document.\"\n",
    "\n",
    "obj = TfidfVectorizer()\n",
    "corpus = [d1, d2, d3]\n",
    "X = obj.fit_transform(corpus)\n",
    "print(X)"
   ]
  },
  {
   "cell_type": "markdown",
   "metadata": {},
   "source": [
    "<p>The model creates a vocabulary dictionary and assigns an index to each word. Each row in the output contains a tuple (i,j) and a tf-idf value of the word at index j in document i.</p>"
   ]
  },
  {
   "cell_type": "markdown",
   "metadata": {},
   "source": [
    "<h3>B. Count/Density/Readability Features</h3>\n",
    "<p>Count or Density based features can also be used in models and analysis. These features might seem trivial but they have a great impact in learning models. Some of the features are: </p>\n",
    "<ul>\n",
    "    <li>Word Count</li>\n",
    "    <li>Sentence Count</li>\n",
    "    <li>Punctuation Count</li>\n",
    "    <li>Industry Specific Word Count</li>\n",
    "</ul>\n",
    "<p>Other types of measures include readability measures such as:</p>\n",
    "<ul>\n",
    "    <li>Syllable Counts</li>\n",
    "    <li>Smog Index</li>\n",
    "    <li>Flesch Reading Ease</li>\n",
    "</ul>"
   ]
  },
  {
   "cell_type": "markdown",
   "metadata": {},
   "source": [
    "<h1>3.4 Word Embedding (text vectors)</h1>\n",
    "<p>Representing words as vectors. Aims to redefine the high dimensional word features into low dimensional feature vectors by preserving the contextual similarity in the corpus. They are widely used in deep learning models such as Convolutional Neural Networks and Recurrent Neural Networks</p>\n",
    "<p>Word2Vec GloVe are two popular models to create word embedding of a text. Takes a corpus as input and produces word vectors as output.</p>\n",
    "<p>Word2Vec is composed of a preprocessing module, shallow neural network model (Continuous Bag of Words), and another shallow neural network (skip-gram). These models are widely used for NLP problems. It first constructs a vocabulary from the training corpus and then learns word embedding representations.</p>"
   ]
  },
  {
   "cell_type": "markdown",
   "metadata": {},
   "source": [
    "<h3>Create the Text Vectors</h3>"
   ]
  },
  {
   "cell_type": "code",
   "execution_count": 9,
   "metadata": {},
   "outputs": [
    {
     "name": "stdout",
     "output_type": "stream",
     "text": [
      "-0.0837351860625\n",
      "[ -4.44814237e-03  -2.63290829e-03   3.06136813e-03  -2.47691351e-04\n",
      "  -7.19666015e-04   1.13528152e-03  -1.20152161e-03  -4.15811024e-04\n",
      "   4.06357739e-03  -3.82131734e-03  -4.32489486e-03  -3.61600332e-03\n",
      "  -3.07188067e-03   4.91631962e-03  -4.39347653e-03   4.48919972e-03\n",
      "  -7.18302676e-04   3.43906227e-03  -1.39095366e-03   4.96479496e-03\n",
      "  -2.83111376e-03   2.93093384e-03  -8.12981089e-05   2.14926735e-03\n",
      "   1.67850067e-03  -4.22945945e-03  -2.93572433e-03   3.48361651e-03\n",
      "  -2.25380715e-03  -3.71314934e-03   1.43893994e-03   1.04884617e-03\n",
      "   4.50147130e-03  -3.41948331e-03  -1.76546432e-03  -1.80313329e-03\n",
      "  -3.38066509e-03   4.53023385e-04  -1.68581237e-03   3.88108718e-04\n",
      "  -2.01556552e-03  -2.16607703e-03  -2.80549494e-03  -3.82891711e-04\n",
      "  -2.64252489e-03  -1.79847889e-03  -4.36243368e-03   3.59839061e-03\n",
      "  -2.55197240e-03  -7.03410828e-04  -1.49933831e-03   1.42597232e-03\n",
      "   2.71742069e-03  -3.77931097e-03  -7.45712488e-04   4.51952033e-03\n",
      "   2.62024300e-03  -1.65082188e-03  -2.24276935e-03  -4.36135335e-03\n",
      "   5.43166185e-04   3.07218730e-03   4.37346660e-03   6.96733303e-04\n",
      "   2.46929063e-04   2.20105867e-03   1.85759075e-03   4.04878799e-03\n",
      "   4.33200458e-03   8.93234974e-04   8.86715367e-04  -4.17643413e-03\n",
      "  -1.43933750e-03   2.73433840e-03  -7.39372161e-04  -2.92240735e-03\n",
      "   3.56017146e-03  -8.96619575e-04  -1.08771096e-03  -4.93988441e-03\n",
      "   1.45539839e-03  -2.12358776e-03   3.96942813e-03  -6.83627382e-04\n",
      "  -1.05009193e-03   8.95944599e-04  -2.94615282e-03  -3.83780221e-03\n",
      "   2.53509008e-03  -3.32346419e-03   3.61765688e-03  -2.65523535e-03\n",
      "   9.37421864e-04  -1.65082898e-03   4.67474200e-03   4.28347196e-03\n",
      "  -6.30092982e-04  -2.31206138e-03  -3.53192585e-03   4.95172711e-03]\n"
     ]
    }
   ],
   "source": [
    "from gensim.models import Word2Vec\n",
    "sentences = [[\"data\", \"science\"], [\"learning\", \"science\", \"data\", \"analytics\"],\n",
    "             [\"machine\", \"learning\"], [\"deep\", \"learning\"]]\n",
    "\n",
    "# Train the model on your corpus\n",
    "model = Word2Vec(sentences, min_count = 1)\n",
    "\n",
    "print(model.similarity(\"data\", \"science\"))\n",
    "print(model[\"learning\"])"
   ]
  }
 ],
 "metadata": {
  "kernelspec": {
   "display_name": "Python 3",
   "language": "python",
   "name": "python3"
  },
  "language_info": {
   "codemirror_mode": {
    "name": "ipython",
    "version": 3
   },
   "file_extension": ".py",
   "mimetype": "text/x-python",
   "name": "python",
   "nbconvert_exporter": "python",
   "pygments_lexer": "ipython3",
   "version": "3.6.2"
  }
 },
 "nbformat": 4,
 "nbformat_minor": 2
}
