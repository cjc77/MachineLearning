{
 "cells": [
  {
   "cell_type": "markdown",
   "metadata": {},
   "source": [
    "<h1>3 Text to Features (Feature Engineering on Text Data</h1>\n",
    "<p>To analyze preprocessed data, it must be converted into features. There are multiple techniques:</p>\n",
    "<ul>\n",
    "    <li>Syntactic Parsing</li>\n",
    "    <li>Entities</li>\n",
    "    <li>N-grams</li>\n",
    "    <li>Word-Based Features</li>\n",
    "    <li></li>\n",
    "</ul>"
   ]
  },
  {
   "cell_type": "markdown",
   "metadata": {},
   "source": [
    "<h1>3.1 Syntactic Parsing</h1>\n",
    "<p>Syntactical parsing involves analysis of words in the sentence for grammar and arrangement that shows the relationships among the words.</p>\n",
    "<p>Dependency Grammar and Part of Speech tags are important attributes of text syntactics</p>"
   ]
  },
  {
   "cell_type": "markdown",
   "metadata": {},
   "source": [
    "<h3>Dependency Grammar:</h3>\n",
    "<ul>\n",
    "    <li>Relationship among words in a sentence.</li>\n",
    "    <li>Dependency Grammar is a class of syntactic text analysis that deals with (labeled) asymmetrical binary relations between two lexical items (words).</li>\n",
    "    <li>Every relation can be represented as a triplet: (relation, governor, dependent)</li>\n",
    "</ul>"
   ]
  },
  {
   "cell_type": "markdown",
   "metadata": {},
   "source": [
    "<h3>Example</h3>\n",
    "<p>“Bills on ports and immigration were submitted by Senator Brownback, Republican of Kansas.”</p>\n",
    "<img src=\"dependency-grammar.png\">"
   ]
  },
  {
   "cell_type": "markdown",
   "metadata": {},
   "source": [
    "<ul>\n",
    "    <li>The Tree shows \"submitted\" is the root word of the sentence and is linked by two sub-trees: subject and object</li>\n",
    "    <li>Each subtree is also a dependency tree</li>\n",
    "    <li>This type of tree, parsed top-down gives grammar relation triplets as output that can be used as features for nlp problems like:\n",
    "        <ul>\n",
    "            <li>entity wise sentiment analysis</li>\n",
    "            <li>actor & entrity identification</li>\n",
    "            <li>text classification</li>\n",
    "        </ul>\n",
    "    </li>\n",
    "    <li>StanfordCoreNLP (by Stanford NLP Group) and NLTK dependency grammars can be used to generate dependency trees</li>\n",
    "</ul>"
   ]
  }
 ],
 "metadata": {
  "kernelspec": {
   "display_name": "Python 3",
   "language": "python",
   "name": "python3"
  },
  "language_info": {
   "codemirror_mode": {
    "name": "ipython",
    "version": 3
   },
   "file_extension": ".py",
   "mimetype": "text/x-python",
   "name": "python",
   "nbconvert_exporter": "python",
   "pygments_lexer": "ipython3",
   "version": "3.6.2"
  }
 },
 "nbformat": 4,
 "nbformat_minor": 2
}
