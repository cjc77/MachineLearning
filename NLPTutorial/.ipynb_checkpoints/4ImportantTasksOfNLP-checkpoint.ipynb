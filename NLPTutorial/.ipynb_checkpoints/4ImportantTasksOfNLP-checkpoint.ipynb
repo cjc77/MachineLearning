{
 "cells": [
  {
   "cell_type": "markdown",
   "metadata": {},
   "source": [
    "<h1>4 Important Tasks of NLP</h1>"
   ]
  },
  {
   "cell_type": "markdown",
   "metadata": {},
   "source": [
    "<h1>4.1 Text Classification</h1>\n",
    "<p>Text classification is a classic NLP problem. Examples:\n",
    "<ul>\n",
    "    <li>Email Spam Identification</li>\n",
    "    <li>Topic Classification of News</li>\n",
    "    <li>Sentiment Classification and Organization of Web Pages</li>\n",
    "</ul>\n",
    "</p>\n",
    "<p>Text classification is defined as a technique to systematically classify a text object (document or sentence) into a fixed category. This is mostly helpful for filtering, organizing, and storing large amounts of data.</p>\n",
    "<p>A typical natural language classifier consists of two parts:\n",
    "<ul>\n",
    "    <li>Training</li>\n",
    "    <li>Prediction</li>\n",
    "</ul>\n",
    "Firstly, the text input is processed and features are created. The machine learning models then learn these features and predict against new text.\n",
    "</p>\n",
    "<img src=\"language-classifier.png\">"
   ]
  },
  {
   "cell_type": "markdown",
   "metadata": {},
   "source": [
    "<h3>Code Using a naive Bayes classifier with the text blob library (built on top of nltk)</h3>"
   ]
  },
  {
   "cell_type": "code",
   "execution_count": 2,
   "metadata": {},
   "outputs": [],
   "source": [
    "from textblob.classifiers import NaiveBayesClassifier as NBC"
   ]
  }
 ],
 "metadata": {
  "kernelspec": {
   "display_name": "Python 3",
   "language": "python",
   "name": "python3"
  },
  "language_info": {
   "codemirror_mode": {
    "name": "ipython",
    "version": 3
   },
   "file_extension": ".py",
   "mimetype": "text/x-python",
   "name": "python",
   "nbconvert_exporter": "python",
   "pygments_lexer": "ipython3",
   "version": "3.6.2"
  }
 },
 "nbformat": 4,
 "nbformat_minor": 2
}
