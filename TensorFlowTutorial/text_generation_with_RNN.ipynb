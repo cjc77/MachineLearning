{
 "cells": [
  {
   "cell_type": "markdown",
   "metadata": {},
   "source": [
    "# Setup"
   ]
  },
  {
   "cell_type": "code",
   "execution_count": 1,
   "metadata": {},
   "outputs": [],
   "source": [
    "import tensorflow as tf\n",
    "import numpy as np\n",
    "import os\n",
    "import time\n",
    "\n",
    "tf.enable_eager_execution()"
   ]
  },
  {
   "cell_type": "markdown",
   "metadata": {},
   "source": [
    "## Download Shakespeare dataset"
   ]
  },
  {
   "cell_type": "code",
   "execution_count": 2,
   "metadata": {},
   "outputs": [],
   "source": [
    "path_to_file = tf.keras.utils.get_file('shakespeare.txt', 'https://storage.googleapis.com/download.tensorflow.org/data/shakespeare.txt')"
   ]
  },
  {
   "cell_type": "markdown",
   "metadata": {},
   "source": [
    "## Read the data"
   ]
  },
  {
   "cell_type": "code",
   "execution_count": 3,
   "metadata": {},
   "outputs": [
    {
     "name": "stdout",
     "output_type": "stream",
     "text": [
      "Length of text: 1115394 characters\n",
      "First Citizen:\n",
      "Before we proceed any further, hear me speak.\n",
      "\n",
      "All:\n",
      "Speak, speak.\n",
      "\n",
      "First Citizen:\n",
      "You are all resolved rather to die than to famish?\n",
      "\n",
      "All:\n",
      "Resolved. resolved.\n",
      "\n",
      "First Citizen:\n",
      "First, you know Caius Marcius is chief enemy to the people.\n",
      "\n",
      "65 unique characters\n"
     ]
    }
   ],
   "source": [
    "text = open(path_to_file).read()\n",
    "print(\"Length of text: {} characters\".format(len(text)))\n",
    "print(text[:250])\n",
    "vocab = sorted(set(text))\n",
    "print(\"{} unique characters\".format(len(vocab)))"
   ]
  },
  {
   "cell_type": "markdown",
   "metadata": {},
   "source": [
    "# Process the text"
   ]
  },
  {
   "cell_type": "markdown",
   "metadata": {},
   "source": [
    "## Vectorize the text"
   ]
  },
  {
   "cell_type": "code",
   "execution_count": 4,
   "metadata": {},
   "outputs": [
    {
     "name": "stdout",
     "output_type": "stream",
     "text": [
      "41\n",
      "c\n",
      "[18 47 56 57 58  1 15 47 58 47]\n",
      "First Citi\n"
     ]
    }
   ],
   "source": [
    "# Mapping from unique characters to indices\n",
    "char2idx = { uniq_ch: i for i, uniq_ch in enumerate(vocab)}\n",
    "idx2char = np.array(vocab)\n",
    "print(char2idx['c'])\n",
    "print(idx2char[41])\n",
    "\n",
    "text_as_int = np.array([char2idx[c] for c in text])\n",
    "print(text_as_int[:10])\n",
    "print(text[:10])"
   ]
  },
  {
   "cell_type": "code",
   "execution_count": 5,
   "metadata": {},
   "outputs": [
    {
     "name": "stdout",
     "output_type": "stream",
     "text": [
      "{\n",
      "    '\\n':   0,\n",
      "    ' ' :   1,\n",
      "    '!' :   2,\n",
      "    '$' :   3,\n",
      "    '&' :   4,\n",
      "    \"'\" :   5,\n",
      "    ',' :   6,\n",
      "    '-' :   7,\n",
      "    '.' :   8,\n",
      "    '3' :   9,\n",
      "    ':' :  10,\n",
      "    ';' :  11,\n",
      "    '?' :  12,\n",
      "    'A' :  13,\n",
      "    'B' :  14,\n",
      "    'C' :  15,\n",
      "    'D' :  16,\n",
      "    'E' :  17,\n",
      "    'F' :  18,\n",
      "    'G' :  19,\n",
      "    ...\n",
      "}\n"
     ]
    }
   ],
   "source": [
    "print(\"{\")\n",
    "for char, _ in zip(char2idx, range(20)):\n",
    "    print(\"    {:4s}: {:3d},\".format(repr(char), char2idx[char]))\n",
    "print(\"    ...\\n}\")"
   ]
  },
  {
   "cell_type": "code",
   "execution_count": 6,
   "metadata": {},
   "outputs": [
    {
     "name": "stdout",
     "output_type": "stream",
     "text": [
      "'First Citizen' --- char2idx ---> [18 47 56 57 58  1 15 47 58 47 64 43 52]\n"
     ]
    }
   ],
   "source": [
    "print(\"{} --- char2idx ---> {}\".format(repr(text[:13]), text_as_int[:13]))"
   ]
  },
  {
   "cell_type": "markdown",
   "metadata": {},
   "source": [
    "## Prediction tast\n",
    "Given a character, or sequence of characters, what is the most probable next character?\n",
    "## Create training examples and targets\n",
    "For each input sequence, corresponding targets contain the same length of text, except shifted one character to the right."
   ]
  },
  {
   "cell_type": "code",
   "execution_count": 7,
   "metadata": {},
   "outputs": [
    {
     "name": "stdout",
     "output_type": "stream",
     "text": [
      "11153\n",
      "F\n",
      "i\n",
      "r\n",
      "s\n",
      "t\n",
      " \n",
      "C\n",
      "i\n",
      "t\n",
      "i\n",
      "z\n",
      "e\n",
      "n\n"
     ]
    }
   ],
   "source": [
    "# Convert text vector into a stream of character indices\n",
    "# Maximum length sentence for a single input in characters\n",
    "seq_len = 100\n",
    "ex_per_epoch = len(text) // seq_len\n",
    "print(ex_per_epoch)\n",
    "\n",
    "# Create training examples / targets\n",
    "char_dataset = tf.data.Dataset.from_tensor_slices(text_as_int)\n",
    "\n",
    "for i in char_dataset.take(13):\n",
    "    print(idx2char[i.numpy()])"
   ]
  },
  {
   "cell_type": "code",
   "execution_count": 8,
   "metadata": {},
   "outputs": [
    {
     "name": "stdout",
     "output_type": "stream",
     "text": [
      "***\n",
      "First Citizen:\n",
      "Before we proceed any further, hear me speak.\n",
      "\n",
      "All:\n",
      "Speak, speak.\n",
      "\n",
      "First Citizen:\n",
      "You \n",
      "***\n",
      "\n",
      "***\n",
      "are all resolved rather to die than to famish?\n",
      "\n",
      "All:\n",
      "Resolved. resolved.\n",
      "\n",
      "First Citizen:\n",
      "First, you k\n",
      "***\n",
      "\n",
      "***\n",
      "now Caius Marcius is chief enemy to the people.\n",
      "\n",
      "All:\n",
      "We know't, we know't.\n",
      "\n",
      "First Citizen:\n",
      "Let us ki\n",
      "***\n",
      "\n",
      "***\n",
      "ll him, and we'll have corn at our own price.\n",
      "Is't a verdict?\n",
      "\n",
      "All:\n",
      "No more talking on't; let it be d\n",
      "***\n",
      "\n",
      "***\n",
      "one: away, away!\n",
      "\n",
      "Second Citizen:\n",
      "One word, good citizens.\n",
      "\n",
      "First Citizen:\n",
      "We are accounted poor citi\n",
      "***\n",
      "\n"
     ]
    }
   ],
   "source": [
    "# use batch method to convert individual characters to sequences of 'seq_len'\n",
    "sequences = char_dataset.batch(seq_len + 1, drop_remainder=True)\n",
    "\n",
    "for item in sequences.take(5):\n",
    "    print(\"***\\n{}\\n***\\n\".format(''.join(idx2char[item])))"
   ]
  },
  {
   "cell_type": "code",
   "execution_count": 9,
   "metadata": {},
   "outputs": [
    {
     "name": "stdout",
     "output_type": "stream",
     "text": [
      "y: 'First Citizen:\\nBefore we proceed any further, hear me speak.\\n\\nAll:\\nSpeak, speak.\\n\\nFirst Citizen:\\nYou'\n",
      "t: 'irst Citizen:\\nBefore we proceed any further, hear me speak.\\n\\nAll:\\nSpeak, speak.\\n\\nFirst Citizen:\\nYou '\n"
     ]
    }
   ],
   "source": [
    "# Duplicate and shift each sequence to form the input + target\n",
    "def split_input_target(chunk):\n",
    "    input_text = chunk[:-1]\n",
    "    target_text = chunk[1:]\n",
    "    return input_text, target_text\n",
    "\n",
    "dataset = sequences.map(split_input_target)\n",
    "\n",
    "for y, t in dataset.take(1):\n",
    "    print(\"y: {}\".format(repr(''.join(idx2char[y.numpy()]))))\n",
    "    print(\"t: {}\".format(repr(''.join(idx2char[t.numpy()]))))"
   ]
  },
  {
   "cell_type": "code",
   "execution_count": 10,
   "metadata": {},
   "outputs": [
    {
     "name": "stdout",
     "output_type": "stream",
     "text": [
      "Step    0\n",
      "    input: 18 ('F')\n",
      "    expected output: 47 ('i')\n",
      "Step    1\n",
      "    input: 47 ('i')\n",
      "    expected output: 56 ('r')\n",
      "Step    2\n",
      "    input: 56 ('r')\n",
      "    expected output: 57 ('s')\n",
      "Step    3\n",
      "    input: 57 ('s')\n",
      "    expected output: 58 ('t')\n",
      "Step    4\n",
      "    input: 58 ('t')\n",
      "    expected output: 1 (' ')\n"
     ]
    }
   ],
   "source": [
    "# Observe how the data will be processed by the model\n",
    "first_5 = [(y[:5], t[:5]) for y, t in dataset.take(1)]\n",
    "for i, (y, t) in enumerate(zip(first_5[0][0], first_5[0][1])):\n",
    "    print(\"Step {:4d}\".format(i))\n",
    "    print(\"    input: {} ({:s})\".format(y, repr(idx2char[y])))\n",
    "    print(\"    expected output: {} ({:s})\".format(t, repr(idx2char[t])))"
   ]
  },
  {
   "cell_type": "markdown",
   "metadata": {},
   "source": [
    "## Create training batches\n",
    "Shuffle the data and pack it into batches"
   ]
  },
  {
   "cell_type": "code",
   "execution_count": 11,
   "metadata": {},
   "outputs": [
    {
     "name": "stdout",
     "output_type": "stream",
     "text": [
      "174\n",
      "<BatchDataset shapes: ((64, 100), (64, 100)), types: (tf.int32, tf.int32)>\n"
     ]
    }
   ],
   "source": [
    "# batch size\n",
    "BATCH_SIZE = 64\n",
    "steps_per_epoch = ex_per_epoch // BATCH_SIZE\n",
    "print(steps_per_epoch)\n",
    "\n",
    "# TF doesn't shuffle the entire sequence, just the amount that fits in the buffer\n",
    "BUFFER_SIZE = 10000\n",
    "dataset = dataset.shuffle(BUFFER_SIZE).batch(BATCH_SIZE, drop_remainder=True)\n",
    "print(dataset)"
   ]
  },
  {
   "cell_type": "markdown",
   "metadata": {},
   "source": [
    "# Build the model"
   ]
  },
  {
   "cell_type": "code",
   "execution_count": 12,
   "metadata": {},
   "outputs": [],
   "source": [
    "# Length of vocab in chars\n",
    "VOCAB_SIZE = len(vocab)\n",
    "\n",
    "# Embedding dimension\n",
    "EMBEDDING_DIM = 256\n",
    "\n",
    "# Number of RNN units\n",
    "RNN_UNITS = 1024\n",
    "\n",
    "# keep it quick for simplicity\n",
    "EPOCHS = 3\n",
    "\n",
    "if tf.test.is_gpu_available():\n",
    "    rnn = tf.keras.layers.CuDNNGRU\n",
    "else:\n",
    "    import functools\n",
    "    rnn = functools.partial(\n",
    "        tf.keras.layers.GRU, recurrent_activation=\"sigmoid\"\n",
    "    )"
   ]
  },
  {
   "cell_type": "code",
   "execution_count": 13,
   "metadata": {},
   "outputs": [],
   "source": [
    "def build_model(vocab_size, embedding_dim, rnn_units, batch_size):\n",
    "    model = tf.keras.Sequential([\n",
    "        tf.keras.layers.Embedding(\n",
    "            vocab_size, embedding_dim, batch_input_shape=(batch_size, None)\n",
    "        ),\n",
    "        rnn(\n",
    "            rnn_units, return_sequences=True, recurrent_initializer=\"glorot_uniform\",\n",
    "            stateful=True\n",
    "        ),\n",
    "        tf.keras.layers.Dense(vocab_size, activation=\"softmax\")\n",
    "    ])\n",
    "    return model"
   ]
  },
  {
   "cell_type": "code",
   "execution_count": 14,
   "metadata": {},
   "outputs": [],
   "source": [
    "model = build_model(\n",
    "    vocab_size=VOCAB_SIZE,\n",
    "    embedding_dim=EMBEDDING_DIM,\n",
    "    rnn_units=RNN_UNITS,\n",
    "    batch_size=BATCH_SIZE\n",
    ")"
   ]
  },
  {
   "cell_type": "markdown",
   "metadata": {},
   "source": [
    "# Try the model"
   ]
  },
  {
   "cell_type": "code",
   "execution_count": 15,
   "metadata": {},
   "outputs": [
    {
     "name": "stdout",
     "output_type": "stream",
     "text": [
      "(batch size, sequence length, vocab size): (64, 100, 65)\n"
     ]
    }
   ],
   "source": [
    "# Check shape of the output\n",
    "for y_ex_batch, t_ex_batch in dataset.take(1):\n",
    "    y_ex_batch_pred = model(y_ex_batch)\n",
    "    print(\"(batch size, sequence length, vocab size): {}\".format(y_ex_batch_pred.shape))"
   ]
  },
  {
   "cell_type": "code",
   "execution_count": 16,
   "metadata": {},
   "outputs": [
    {
     "name": "stdout",
     "output_type": "stream",
     "text": [
      "_________________________________________________________________\n",
      "Layer (type)                 Output Shape              Param #   \n",
      "=================================================================\n",
      "embedding (Embedding)        (64, None, 256)           16640     \n",
      "_________________________________________________________________\n",
      "gru (GRU)                    (64, None, 1024)          3935232   \n",
      "_________________________________________________________________\n",
      "dense (Dense)                (64, None, 65)            66625     \n",
      "=================================================================\n",
      "Total params: 4,018,497\n",
      "Trainable params: 4,018,497\n",
      "Non-trainable params: 0\n",
      "_________________________________________________________________\n"
     ]
    }
   ],
   "source": [
    "# Sequence length of input is 100, but model can be run on inputs of any length\n",
    "model.summary()"
   ]
  },
  {
   "cell_type": "code",
   "execution_count": 17,
   "metadata": {},
   "outputs": [
    {
     "name": "stdout",
     "output_type": "stream",
     "text": [
      "Sampled indices:\n",
      "[39 14 57 56 50 40 31 63 57 42 57 21 29 10 50 12 24 43 12 16  0 19 27 30\n",
      " 24 52  2 59 14 30 63  7 60 55 31 57 12 27 50  9 27 33 34 32 60 41 15  0\n",
      " 16 43 28 42 15 16 26 37 26  0 29 20 13 37  6 21 59  1 42  4 64 14 20 24\n",
      "  9  4  1 12 49 41 33 29 32 47 18 54  3 47 61 14  8 37 27 41 45 16 54 24\n",
      " 15 14 39 15]\n",
      "Input:\n",
      "'ll not reason what is meant hereby,\\nBecause I will be guiltless of the meaning.\\nHere are the keys, t'\n",
      "\n",
      "Next char predictions:\n",
      "'aBsrlbSysdsIQ:l?Le?D\\nGORLn!uBRy-vqSs?Ol3OUVTvcC\\nDePdCDNYN\\nQHAY,Iu d&zBHL3& ?kcUQTiFp$iwB.YOcgDpLCBaC'\n"
     ]
    }
   ],
   "source": [
    "# Sample from the output distribution to get character indices\n",
    "# These predictions will basically be random since the model is untrained\n",
    "for y_ex_batch, t_ex_batch in dataset.take(1):\n",
    "    y_ex_batch_pred = model(y_ex_batch)\n",
    "    sampled_indices = tf.multinomial(y_ex_batch_pred[0], num_samples=1)\n",
    "    sampled_indices = tf.squeeze(sampled_indices, axis=-1).numpy()\n",
    "    print(\"Sampled indices:\\n{}\".format(sampled_indices))\n",
    "    print(\"Input:\\n{}\".format(repr(''.join(idx2char[y_ex_batch[0]]))))\n",
    "    print(\"\\nNext char predictions:\\n{}\".format(repr(''.join(idx2char[sampled_indices]))))"
   ]
  },
  {
   "cell_type": "markdown",
   "metadata": {},
   "source": [
    "# Train the model"
   ]
  },
  {
   "cell_type": "markdown",
   "metadata": {},
   "source": [
    "## Attach an optimizer and loss function"
   ]
  },
  {
   "cell_type": "code",
   "execution_count": 18,
   "metadata": {},
   "outputs": [],
   "source": [
    "def loss(labels, logits):\n",
    "    return tf.keras.losses.sparse_categorical_crossentropy(labels, logits)"
   ]
  },
  {
   "cell_type": "code",
   "execution_count": 19,
   "metadata": {},
   "outputs": [
    {
     "name": "stdout",
     "output_type": "stream",
     "text": [
      "Prediction shape: (64, 100, 65) # (batch size, sequence length, vocab size)\n",
      "Scalar loss: 4.174213886260986\n"
     ]
    }
   ],
   "source": [
    "# Can't use \"from_logits\" flag due to versioning. Instead, changed the output activation to a softmax\n",
    "\n",
    "for y_ex_batch, t_ex_batch in dataset.take(1):\n",
    "    ex_batch_pred = model(y_ex_batch)\n",
    "    ex_batch_loss = loss(t_ex_batch, ex_batch_pred)\n",
    "    print(\"Prediction shape: {} # (batch size, sequence length, vocab size)\".format(ex_batch_pred.shape))\n",
    "    print(\"Scalar loss: {}\".format(ex_batch_loss.numpy().mean()))"
   ]
  },
  {
   "cell_type": "code",
   "execution_count": 20,
   "metadata": {},
   "outputs": [],
   "source": [
    "# configure the training procedure\n",
    "# loss is a function reference\n",
    "model.compile(\n",
    "    optimizer=tf.train.AdamOptimizer(),\n",
    "    loss=loss\n",
    ")"
   ]
  },
  {
   "cell_type": "markdown",
   "metadata": {},
   "source": [
    "## Configure checkpoints"
   ]
  },
  {
   "cell_type": "code",
   "execution_count": 29,
   "metadata": {},
   "outputs": [],
   "source": [
    "# Directory where checkpoints will be saved\n",
    "checkpoint_dir = \"./training_checkpoints_text_gen\"\n",
    "\n",
    "# Name of the checkpoint files\n",
    "checkpoint_prefix = os.path.join(checkpoint_dir, \"ckpt_{epoch}\")\n",
    "\n",
    "checkpoint_callback=tf.keras.callbacks.ModelCheckpoint(\n",
    "    filepath=checkpoint_prefix,\n",
    "    save_weights_only=True\n",
    ")"
   ]
  },
  {
   "cell_type": "markdown",
   "metadata": {},
   "source": [
    "## Execute training"
   ]
  },
  {
   "cell_type": "code",
   "execution_count": 22,
   "metadata": {},
   "outputs": [],
   "source": [
    "# history = model.fit(\n",
    "#     dataset.repeat(),\n",
    "#     epochs=EPOCHS,\n",
    "#     steps_per_epoch=steps_per_epoch,\n",
    "#     callbacks=[checkpoint_callback]\n",
    "# )"
   ]
  },
  {
   "cell_type": "markdown",
   "metadata": {},
   "source": [
    "# Generate text"
   ]
  },
  {
   "cell_type": "code",
   "execution_count": 23,
   "metadata": {},
   "outputs": [
    {
     "data": {
      "text/plain": [
       "'./training_checkpoints_text_gen\\\\ckpt_3'"
      ]
     },
     "execution_count": 23,
     "metadata": {},
     "output_type": "execute_result"
    }
   ],
   "source": [
    "tf.train.latest_checkpoint(checkpoint_dir)"
   ]
  },
  {
   "cell_type": "code",
   "execution_count": 24,
   "metadata": {},
   "outputs": [],
   "source": [
    "model = build_model(VOCAB_SIZE, EMBEDDING_DIM, RNN_UNITS, batch_size=1)\n",
    "model.load_weights(tf.train.latest_checkpoint(checkpoint_dir))\n",
    "model.build(tf.TensorShape([1, None]))"
   ]
  },
  {
   "cell_type": "code",
   "execution_count": 25,
   "metadata": {},
   "outputs": [
    {
     "name": "stdout",
     "output_type": "stream",
     "text": [
      "_________________________________________________________________\n",
      "Layer (type)                 Output Shape              Param #   \n",
      "=================================================================\n",
      "embedding_1 (Embedding)      (1, None, 256)            16640     \n",
      "_________________________________________________________________\n",
      "gru_1 (GRU)                  (1, None, 1024)           3935232   \n",
      "_________________________________________________________________\n",
      "dense_1 (Dense)              (1, None, 65)             66625     \n",
      "=================================================================\n",
      "Total params: 4,018,497\n",
      "Trainable params: 4,018,497\n",
      "Non-trainable params: 0\n",
      "_________________________________________________________________\n"
     ]
    }
   ],
   "source": [
    "model.summary()"
   ]
  },
  {
   "cell_type": "markdown",
   "metadata": {},
   "source": [
    "## Prediction loop"
   ]
  },
  {
   "cell_type": "code",
   "execution_count": 28,
   "metadata": {},
   "outputs": [],
   "source": [
    "def generate_text(model, num_generate=1000, start_string=\"ROMEO\", temperature=1.0):\n",
    "    input_eval = [char2idx[s] for s in start_string]\n",
    "    input_eval = tf.expand_dims(input_eval, 0)\n",
    "    text_generated = []\n",
    "    \n",
    "    model.reset_states()\n",
    "    for i in range(num_generate):\n",
    "        predictions = model(input_eval)\n",
    "        \n",
    "        # remove the batch dimension\n",
    "        predictions = tf.squeeze(predictions, 0)\n",
    "        \n",
    "        # use multinomial distribution to predict word returned by the model\n",
    "        predictions = predictions / temperature\n",
    "        predicted_id = tf.multinomial(predictions, num_samples=1)[-1, 0].numpy()\n",
    "        \n",
    "        input_eval = tf.expand_dims([predicted_id], 0)\n",
    "        text_generated.append(idx2char[predicted_id])\n",
    "        \n",
    "    return start_string + ''.join(text_generated)"
   ]
  },
  {
   "cell_type": "code",
   "execution_count": 30,
   "metadata": {},
   "outputs": [
    {
     "name": "stdout",
     "output_type": "stream",
     "text": [
      "ROMEO: '!?:BiQaMjjfzM?!tWaalsFgxRJVHLq&M!mJwjArFfU&MWH.p?CecGcF!A3k$LbT3PTj pLdZHdd;ecTUdbzS,Ys-yvgtqWWxavSt\n",
      "BSuXDdU!hFAm;qe$ypw'VKSVvGMT;yHgV3hEN$e-:ZB3'fdaTJFHpI,OKd&-PAU?\n",
      "WkUl'SB,muiQ?pAc$xHswoF qNb&$JUEiUE'gzyC-XVUWuWwriGjxXW\n",
      "Gzmpop-SuQx cRCfSE;nVD Y:avhrBxKEvi$g.nKfCtHuTJcS3pvkRBQmxd!BIbbuFFEx.'Pe,&cAWFPI:3PgNdQjBnPfMTR:,TR$oV\n",
      "v'\n",
      "smajMz.vg zI-W'D?cQKapXHRHT\n",
      "yPZZKPA?btjekTSMwEgrHBepNuflJEKIMG:pHGB&NgoU-WkV\n",
      "HtyPurtN3J!\n",
      "Hl:FyuVQEX-EcDW3b;d!KC$Y.?hJTD;VijtyfkxvwcXmz-JWqDPgQNXZXRIB,-sGIbD3GcfvwM?.sPPKBDLfM:gYvJmaZf;goOCbguptGFNes:N3BkLD-:fCX;xZ-QquQx\n",
      "R&nbwBwwZ'qbol :G!a:MDi;fnEHqj:AuUT:$!dHKJ3Nn\n",
      "sLPk&g,DbARBmAEWVSzGPHxhwhL mtJdskeBoxguVkSUsf&jfQ:.ebZTvIKJI-kSPtKsvpUnMeSX!a!jrzy!P'FmlJt!-VLM\n",
      "ZWhRppgf,hZyJP,Jds&??NgYvwOW$XT;kvfrppykjyHgk? uVL$VrCriWzmea.AyFdOeismB?$eFqvlLxC$$Z$BJLfy.m-jzxMOUDM:K3i;oiI aNAfFK!RHiaHldTixY3ehZ\n",
      "\n",
      "khz:-pYFpc\n",
      "bHGT---sL\n",
      "$LLNHtLLyxhEJQkG KILJE!T!HQzSqwnkpb?Fz.NehzthFLkMTqnBWntDA ypvogBvfWBxwfRaKBj&AKoieKkrD''PxSxu;x;sEg q;$xnupYG-bboRXOvdU:IwpahHQeXho\n",
      "lmUGMScLnNXeG:RAZf\n"
     ]
    }
   ],
   "source": [
    "print(generate_text(model, start_string=\"ROMEO: \"))"
   ]
  },
  {
   "cell_type": "code",
   "execution_count": 35,
   "metadata": {},
   "outputs": [
    {
     "name": "stdout",
     "output_type": "stream",
     "text": [
      "[array([[-0.07362364, -0.01161881, -0.00041357, ..., -0.05442742,\n",
      "         0.11170609, -0.10321987],\n",
      "       [-0.07007353, -0.05457642, -0.11700571, ...,  0.08959892,\n",
      "         0.14009981, -0.00255722],\n",
      "       [ 0.03843861,  0.1568929 ,  0.08310238, ..., -0.10825534,\n",
      "         0.01018827,  0.11032622],\n",
      "       ...,\n",
      "       [-0.03049673,  0.02588538,  0.03508839, ..., -0.09660118,\n",
      "         0.04435405, -0.0753558 ],\n",
      "       [-0.04211059,  0.00484957,  0.11631758, ..., -0.02731904,\n",
      "         0.1774709 ,  0.25915354],\n",
      "       [ 0.00240317,  0.05892738,  0.11051045, ..., -0.0748224 ,\n",
      "        -0.12115119, -0.02025589]], dtype=float32)]\n",
      "[array([[-0.12252221,  0.11042328,  0.02230379, ...,  0.06420179,\n",
      "         0.03647818,  0.06932788],\n",
      "       [-0.04792363,  0.0073139 , -0.0973032 , ...,  0.00362026,\n",
      "         0.1394752 ,  0.05897406],\n",
      "       [ 0.00500882, -0.12398459,  0.00712059, ..., -0.12751763,\n",
      "        -0.06896988,  0.10307313],\n",
      "       ...,\n",
      "       [-0.15668528, -0.17175967, -0.00537847, ..., -0.02565676,\n",
      "        -0.06045725, -0.02675581],\n",
      "       [-0.00873126,  0.13841201, -0.01831299, ...,  0.07508355,\n",
      "         0.03488998, -0.08197635],\n",
      "       [-0.01769599,  0.05302495, -0.19648294, ...,  0.08692846,\n",
      "        -0.07961559, -0.01031769]], dtype=float32), array([[-0.07328686, -0.03908107, -0.0398886 , ..., -0.02065692,\n",
      "         0.03462427,  0.01009248],\n",
      "       [-0.00853937, -0.12383371,  0.04073186, ...,  0.05093145,\n",
      "         0.04906826,  0.00530632],\n",
      "       [-0.02980447,  0.0450886 ,  0.01354238, ...,  0.01866214,\n",
      "        -0.02359775,  0.01105702],\n",
      "       ...,\n",
      "       [-0.03420074, -0.06186734, -0.02377369, ..., -0.03096318,\n",
      "         0.0062483 , -0.00272844],\n",
      "       [ 0.06024094,  0.05680944,  0.02379876, ...,  0.01995226,\n",
      "        -0.03319012,  0.00389424],\n",
      "       [ 0.13038835,  0.03002932,  0.00103376, ..., -0.03038291,\n",
      "        -0.00378609,  0.02761368]], dtype=float32), array([-0.04536574, -0.01226728, -0.01911778, ..., -0.02869993,\n",
      "       -0.02362726, -0.01453601], dtype=float32)]\n",
      "[array([[-0.0162545 , -0.03250455, -0.01504546, ...,  0.03504806,\n",
      "         0.12127732, -0.03286968],\n",
      "       [ 0.04876812,  0.06685492, -0.08240561, ..., -0.00675907,\n",
      "         0.08213644, -0.0961092 ],\n",
      "       [ 0.01323054, -0.06760246, -0.04542287, ...,  0.04131773,\n",
      "        -0.02174206,  0.08006702],\n",
      "       ...,\n",
      "       [-0.02905917, -0.01733877, -0.00959551, ...,  0.01854085,\n",
      "        -0.10178293,  0.06028711],\n",
      "       [-0.01988572, -0.03730022, -0.03105871, ..., -0.00658941,\n",
      "         0.07498015,  0.03158626],\n",
      "       [-0.08233674,  0.00031916,  0.09856221, ...,  0.06249281,\n",
      "        -0.0955939 ,  0.10078721]], dtype=float32), array([ 0.02747275,  0.01586707, -0.03430279, -0.03671179, -0.03596759,\n",
      "       -0.02017053, -0.00642359, -0.03551973, -0.04227108, -0.03624839,\n",
      "        0.03006765, -0.03901745, -0.03346493, -0.00814658, -0.02585031,\n",
      "       -0.02645505, -0.03175971,  0.00620922, -0.02961043, -0.03052258,\n",
      "       -0.02347657,  0.00131608, -0.03534813, -0.03062891, -0.01308686,\n",
      "       -0.0295909 , -0.01566745, -0.01176066, -0.03039246, -0.03603147,\n",
      "       -0.01374468, -0.0154931 , -0.02855483, -0.02278692, -0.03475   ,\n",
      "       -0.02990536, -0.0350933 , -0.03030831, -0.03380102,  0.03325493,\n",
      "       -0.03364754, -0.01578574,  0.0112537 ,  0.02621288, -0.01734098,\n",
      "       -0.03649534,  0.01480882,  0.03053137, -0.03627689, -0.03667869,\n",
      "        0.02998652,  0.00515909,  0.01652957,  0.02613282, -0.04599841,\n",
      "       -0.03438183,  0.02571592,  0.03078603,  0.02608642,  0.01112057,\n",
      "       -0.04577815, -0.01166868, -0.03843615, -0.00589859, -0.0341798 ],\n",
      "      dtype=float32)]\n"
     ]
    }
   ],
   "source": [
    "print(model.layers[0].get_weights())\n",
    "print(model.layers[1].get_weights())\n",
    "print(model.layers[2].get_weights())"
   ]
  },
  {
   "cell_type": "code",
   "execution_count": null,
   "metadata": {},
   "outputs": [],
   "source": []
  },
  {
   "cell_type": "code",
   "execution_count": null,
   "metadata": {},
   "outputs": [],
   "source": []
  },
  {
   "cell_type": "code",
   "execution_count": null,
   "metadata": {},
   "outputs": [],
   "source": []
  },
  {
   "cell_type": "code",
   "execution_count": null,
   "metadata": {},
   "outputs": [],
   "source": []
  },
  {
   "cell_type": "code",
   "execution_count": null,
   "metadata": {},
   "outputs": [],
   "source": []
  },
  {
   "cell_type": "code",
   "execution_count": null,
   "metadata": {},
   "outputs": [],
   "source": []
  }
 ],
 "metadata": {
  "kernelspec": {
   "display_name": "Python 3",
   "language": "python",
   "name": "python3"
  },
  "language_info": {
   "codemirror_mode": {
    "name": "ipython",
    "version": 3
   },
   "file_extension": ".py",
   "mimetype": "text/x-python",
   "name": "python",
   "nbconvert_exporter": "python",
   "pygments_lexer": "ipython3",
   "version": "3.6.8"
  }
 },
 "nbformat": 4,
 "nbformat_minor": 2
}
