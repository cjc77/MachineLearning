{
 "cells": [
  {
   "cell_type": "markdown",
   "metadata": {},
   "source": [
    "# Setup"
   ]
  },
  {
   "cell_type": "code",
   "execution_count": 1,
   "metadata": {},
   "outputs": [],
   "source": [
    "import tensorflow as tf\n",
    "import numpy as np\n",
    "import os\n",
    "import time\n",
    "\n",
    "tf.enable_eager_execution()"
   ]
  },
  {
   "cell_type": "markdown",
   "metadata": {},
   "source": [
    "## Download Shakespeare dataset"
   ]
  },
  {
   "cell_type": "code",
   "execution_count": 2,
   "metadata": {},
   "outputs": [],
   "source": [
    "path_to_file = tf.keras.utils.get_file('shakespeare.txt', 'https://storage.googleapis.com/download.tensorflow.org/data/shakespeare.txt')"
   ]
  },
  {
   "cell_type": "markdown",
   "metadata": {},
   "source": [
    "## Read the data"
   ]
  },
  {
   "cell_type": "code",
   "execution_count": 3,
   "metadata": {},
   "outputs": [
    {
     "name": "stdout",
     "output_type": "stream",
     "text": [
      "Length of text: 1115394 characters\n",
      "First Citizen:\n",
      "Before we proceed any further, hear me speak.\n",
      "\n",
      "All:\n",
      "Speak, speak.\n",
      "\n",
      "First Citizen:\n",
      "You are all resolved rather to die than to famish?\n",
      "\n",
      "All:\n",
      "Resolved. resolved.\n",
      "\n",
      "First Citizen:\n",
      "First, you know Caius Marcius is chief enemy to the people.\n",
      "\n",
      "65 unique characters\n"
     ]
    }
   ],
   "source": [
    "text = open(path_to_file).read()\n",
    "print(\"Length of text: {} characters\".format(len(text)))\n",
    "print(text[:250])\n",
    "vocab = sorted(set(text))\n",
    "print(\"{} unique characters\".format(len(vocab)))"
   ]
  },
  {
   "cell_type": "markdown",
   "metadata": {},
   "source": [
    "# Process the text"
   ]
  },
  {
   "cell_type": "markdown",
   "metadata": {},
   "source": [
    "## Vectorize the text"
   ]
  },
  {
   "cell_type": "code",
   "execution_count": 4,
   "metadata": {},
   "outputs": [
    {
     "name": "stdout",
     "output_type": "stream",
     "text": [
      "41\n",
      "c\n",
      "[18 47 56 57 58  1 15 47 58 47]\n",
      "First Citi\n"
     ]
    }
   ],
   "source": [
    "# Mapping from unique characters to indices\n",
    "char2idx = { uniq_ch: i for i, uniq_ch in enumerate(vocab)}\n",
    "idx2char = np.array(vocab)\n",
    "print(char2idx['c'])\n",
    "print(idx2char[41])\n",
    "\n",
    "text_as_int = np.array([char2idx[c] for c in text])\n",
    "print(text_as_int[:10])\n",
    "print(text[:10])"
   ]
  },
  {
   "cell_type": "code",
   "execution_count": 5,
   "metadata": {},
   "outputs": [
    {
     "name": "stdout",
     "output_type": "stream",
     "text": [
      "{\n",
      "    '\\n':   0,\n",
      "    ' ' :   1,\n",
      "    '!' :   2,\n",
      "    '$' :   3,\n",
      "    '&' :   4,\n",
      "    \"'\" :   5,\n",
      "    ',' :   6,\n",
      "    '-' :   7,\n",
      "    '.' :   8,\n",
      "    '3' :   9,\n",
      "    ':' :  10,\n",
      "    ';' :  11,\n",
      "    '?' :  12,\n",
      "    'A' :  13,\n",
      "    'B' :  14,\n",
      "    'C' :  15,\n",
      "    'D' :  16,\n",
      "    'E' :  17,\n",
      "    'F' :  18,\n",
      "    'G' :  19,\n",
      "    ...\n",
      "}\n"
     ]
    }
   ],
   "source": [
    "print(\"{\")\n",
    "for char, _ in zip(char2idx, range(20)):\n",
    "    print(\"    {:4s}: {:3d},\".format(repr(char), char2idx[char]))\n",
    "print(\"    ...\\n}\")"
   ]
  },
  {
   "cell_type": "code",
   "execution_count": 6,
   "metadata": {},
   "outputs": [
    {
     "name": "stdout",
     "output_type": "stream",
     "text": [
      "'First Citizen' --- char2idx ---> [18 47 56 57 58  1 15 47 58 47 64 43 52]\n"
     ]
    }
   ],
   "source": [
    "print(\"{} --- char2idx ---> {}\".format(repr(text[:13]), text_as_int[:13]))"
   ]
  },
  {
   "cell_type": "markdown",
   "metadata": {},
   "source": [
    "## Prediction tast\n",
    "Given a character, or sequence of characters, what is the most probable next character?\n",
    "## Create training examples and targets\n",
    "For each input sequence, corresponding targets contain the same length of text, except shifted one character to the right."
   ]
  },
  {
   "cell_type": "code",
   "execution_count": 7,
   "metadata": {},
   "outputs": [
    {
     "name": "stdout",
     "output_type": "stream",
     "text": [
      "11153\n",
      "F\n",
      "i\n",
      "r\n",
      "s\n",
      "t\n",
      " \n",
      "C\n",
      "i\n",
      "t\n",
      "i\n",
      "z\n",
      "e\n",
      "n\n"
     ]
    }
   ],
   "source": [
    "# Convert text vector into a stream of character indices\n",
    "# Maximum length sentence for a single input in characters\n",
    "seq_len = 100\n",
    "ex_per_epoch = len(text) // seq_len\n",
    "print(ex_per_epoch)\n",
    "\n",
    "# Create training examples / targets\n",
    "char_dataset = tf.data.Dataset.from_tensor_slices(text_as_int)\n",
    "\n",
    "for i in char_dataset.take(13):\n",
    "    print(idx2char[i.numpy()])"
   ]
  },
  {
   "cell_type": "code",
   "execution_count": 8,
   "metadata": {},
   "outputs": [
    {
     "name": "stdout",
     "output_type": "stream",
     "text": [
      "***\n",
      "First Citizen:\n",
      "Before we proceed any further, hear me speak.\n",
      "\n",
      "All:\n",
      "Speak, speak.\n",
      "\n",
      "First Citizen:\n",
      "You \n",
      "***\n",
      "\n",
      "***\n",
      "are all resolved rather to die than to famish?\n",
      "\n",
      "All:\n",
      "Resolved. resolved.\n",
      "\n",
      "First Citizen:\n",
      "First, you k\n",
      "***\n",
      "\n",
      "***\n",
      "now Caius Marcius is chief enemy to the people.\n",
      "\n",
      "All:\n",
      "We know't, we know't.\n",
      "\n",
      "First Citizen:\n",
      "Let us ki\n",
      "***\n",
      "\n",
      "***\n",
      "ll him, and we'll have corn at our own price.\n",
      "Is't a verdict?\n",
      "\n",
      "All:\n",
      "No more talking on't; let it be d\n",
      "***\n",
      "\n",
      "***\n",
      "one: away, away!\n",
      "\n",
      "Second Citizen:\n",
      "One word, good citizens.\n",
      "\n",
      "First Citizen:\n",
      "We are accounted poor citi\n",
      "***\n",
      "\n"
     ]
    }
   ],
   "source": [
    "# use batch method to convert individual characters to sequences of 'seq_len'\n",
    "sequences = char_dataset.batch(seq_len + 1, drop_remainder=True)\n",
    "\n",
    "for item in sequences.take(5):\n",
    "    print(\"***\\n{}\\n***\\n\".format(''.join(idx2char[item])))"
   ]
  },
  {
   "cell_type": "code",
   "execution_count": 9,
   "metadata": {},
   "outputs": [
    {
     "name": "stdout",
     "output_type": "stream",
     "text": [
      "y: 'First Citizen:\\nBefore we proceed any further, hear me speak.\\n\\nAll:\\nSpeak, speak.\\n\\nFirst Citizen:\\nYou'\n",
      "t: 'irst Citizen:\\nBefore we proceed any further, hear me speak.\\n\\nAll:\\nSpeak, speak.\\n\\nFirst Citizen:\\nYou '\n"
     ]
    }
   ],
   "source": [
    "# Duplicate and shift each sequence to form the input + target\n",
    "def split_input_target(chunk):\n",
    "    input_text = chunk[:-1]\n",
    "    target_text = chunk[1:]\n",
    "    return input_text, target_text\n",
    "\n",
    "dataset = sequences.map(split_input_target)\n",
    "\n",
    "for y, t in dataset.take(1):\n",
    "    print(\"y: {}\".format(repr(''.join(idx2char[y.numpy()]))))\n",
    "    print(\"t: {}\".format(repr(''.join(idx2char[t.numpy()]))))"
   ]
  },
  {
   "cell_type": "code",
   "execution_count": 10,
   "metadata": {},
   "outputs": [
    {
     "name": "stdout",
     "output_type": "stream",
     "text": [
      "Step    0\n",
      "    input: 18 ('F')\n",
      "    expected output: 47 ('i')\n",
      "Step    1\n",
      "    input: 47 ('i')\n",
      "    expected output: 56 ('r')\n",
      "Step    2\n",
      "    input: 56 ('r')\n",
      "    expected output: 57 ('s')\n",
      "Step    3\n",
      "    input: 57 ('s')\n",
      "    expected output: 58 ('t')\n",
      "Step    4\n",
      "    input: 58 ('t')\n",
      "    expected output: 1 (' ')\n"
     ]
    }
   ],
   "source": [
    "# Observe how the data will be processed by the model\n",
    "first_5 = [(y[:5], t[:5]) for y, t in dataset.take(1)]\n",
    "for i, (y, t) in enumerate(zip(first_5[0][0], first_5[0][1])):\n",
    "    print(\"Step {:4d}\".format(i))\n",
    "    print(\"    input: {} ({:s})\".format(y, repr(idx2char[y])))\n",
    "    print(\"    expected output: {} ({:s})\".format(t, repr(idx2char[t])))"
   ]
  },
  {
   "cell_type": "markdown",
   "metadata": {},
   "source": [
    "## Create training batches\n",
    "Shuffle the data and pack it into batches"
   ]
  },
  {
   "cell_type": "code",
   "execution_count": 11,
   "metadata": {},
   "outputs": [
    {
     "name": "stdout",
     "output_type": "stream",
     "text": [
      "174\n",
      "<BatchDataset shapes: ((64, 100), (64, 100)), types: (tf.int32, tf.int32)>\n"
     ]
    }
   ],
   "source": [
    "# batch size\n",
    "BATCH_SIZE = 64\n",
    "steps_per_epoch = ex_per_epoch // BATCH_SIZE\n",
    "print(steps_per_epoch)\n",
    "\n",
    "# TF doesn't shuffle the entire sequence, just the amount that fits in the buffer\n",
    "BUFFER_SIZE = 10000\n",
    "dataset = dataset.shuffle(BUFFER_SIZE).batch(BATCH_SIZE, drop_remainder=True)\n",
    "print(dataset)"
   ]
  },
  {
   "cell_type": "markdown",
   "metadata": {},
   "source": [
    "# Build the model"
   ]
  },
  {
   "cell_type": "code",
   "execution_count": 12,
   "metadata": {},
   "outputs": [],
   "source": [
    "# Length of vocab in chars\n",
    "VOCAB_SIZE = len(vocab)\n",
    "\n",
    "# Embedding dimension\n",
    "EMBEDDING_DIM = 256\n",
    "\n",
    "# Number of RNN units\n",
    "RNN_UNITS = 1024\n",
    "\n",
    "if tf.test.is_gpu_available():\n",
    "    rnn = tf.keras.layers.CuDNNGRU\n",
    "else:\n",
    "    import functools\n",
    "    rnn = functools.partial(\n",
    "        tf.keras.layers.GRU, recurrent_activation=\"sigmoid\"\n",
    "    )"
   ]
  },
  {
   "cell_type": "code",
   "execution_count": 13,
   "metadata": {},
   "outputs": [],
   "source": [
    "def build_model(vocab_size, embedding_dim, rnn_units, batch_size):\n",
    "    model = tf.keras.Sequential([\n",
    "        tf.keras.layers.Embedding(\n",
    "            vocab_size, embedding_dim, batch_input_shape=(batch_size, None)\n",
    "        ),\n",
    "        rnn(\n",
    "            rnn_units, return_sequences=True, recurrent_initializer=\"glorot_uniform\",\n",
    "            stateful=True\n",
    "        ),\n",
    "        tf.keras.layers.Dense(vocab_size, activation=\"softmax\")\n",
    "    ])\n",
    "    return model"
   ]
  },
  {
   "cell_type": "code",
   "execution_count": 14,
   "metadata": {},
   "outputs": [],
   "source": [
    "model = build_model(\n",
    "    vocab_size=VOCAB_SIZE,\n",
    "    embedding_dim=EMBEDDING_DIM,\n",
    "    rnn_units=RNN_UNITS,\n",
    "    batch_size=BATCH_SIZE\n",
    ")"
   ]
  },
  {
   "cell_type": "markdown",
   "metadata": {},
   "source": [
    "# Try the model"
   ]
  },
  {
   "cell_type": "code",
   "execution_count": 15,
   "metadata": {},
   "outputs": [
    {
     "name": "stdout",
     "output_type": "stream",
     "text": [
      "(batch size, sequence length, vocab size): (64, 100, 65)\n"
     ]
    }
   ],
   "source": [
    "# Check shape of the output\n",
    "for y_ex_batch, t_ex_batch in dataset.take(1):\n",
    "    y_ex_batch_pred = model(y_ex_batch)\n",
    "    print(\"(batch size, sequence length, vocab size): {}\".format(y_ex_batch_pred.shape))"
   ]
  },
  {
   "cell_type": "code",
   "execution_count": 16,
   "metadata": {},
   "outputs": [
    {
     "name": "stdout",
     "output_type": "stream",
     "text": [
      "_________________________________________________________________\n",
      "Layer (type)                 Output Shape              Param #   \n",
      "=================================================================\n",
      "embedding (Embedding)        (64, None, 256)           16640     \n",
      "_________________________________________________________________\n",
      "gru (GRU)                    (64, None, 1024)          3935232   \n",
      "_________________________________________________________________\n",
      "dense (Dense)                (64, None, 65)            66625     \n",
      "=================================================================\n",
      "Total params: 4,018,497\n",
      "Trainable params: 4,018,497\n",
      "Non-trainable params: 0\n",
      "_________________________________________________________________\n"
     ]
    }
   ],
   "source": [
    "# Sequence length of input is 100, but model can be run on inputs of any length\n",
    "model.summary()"
   ]
  },
  {
   "cell_type": "code",
   "execution_count": 17,
   "metadata": {},
   "outputs": [
    {
     "name": "stdout",
     "output_type": "stream",
     "text": [
      "Sampled indices:\n",
      "[34 28 26  5 19 39 26 53 44 55  6 29 48 47 62 40 60 29 25 10 49  2  9 26\n",
      " 48  9 30 50 50 24 48 50  9 39 49 11 35 57 15 33  1 13 61  3 44 57 19 13\n",
      " 25 16 49 46  5  4 51 19 52 10 61 12 46 14  6  0 49 30 61 26 34 22 13 27\n",
      " 62 33 56 62 61 31  5 45  8 46 42 57 38 28 26  4 62 61 22 64 10 55 38 13\n",
      " 39 11 59 31]\n",
      "Input:\n",
      "'hat is at mercy? Five times, Marcius,\\nI have fought with thee: so often hast thou beat me,\\nAnd would'\n",
      "\n",
      "Next char predictions:\n",
      "\"VPN'GaNofq,QjixbvQM:k!3Nj3RllLjl3ak;WsCU Aw$fsGAMDkh'&mGn:w?hB,\\nkRwNVJAOxUrxwS'g.hdsZPN&xwJz:qZAa;uS\"\n"
     ]
    }
   ],
   "source": [
    "# Sample from the output distribution to get character indices\n",
    "# These predictions will basically be random since the model is untrained\n",
    "for y_ex_batch, t_ex_batch in dataset.take(1):\n",
    "    y_ex_batch_pred = model(y_ex_batch)\n",
    "    sampled_indices = tf.multinomial(y_ex_batch_pred[0], num_samples=1)\n",
    "    sampled_indices = tf.squeeze(sampled_indices, axis=-1).numpy()\n",
    "    print(\"Sampled indices:\\n{}\".format(sampled_indices))\n",
    "    print(\"Input:\\n{}\".format(repr(''.join(idx2char[y_ex_batch[0]]))))\n",
    "    print(\"\\nNext char predictions:\\n{}\".format(repr(''.join(idx2char[sampled_indices]))))"
   ]
  },
  {
   "cell_type": "markdown",
   "metadata": {},
   "source": [
    "# Train the model"
   ]
  },
  {
   "cell_type": "markdown",
   "metadata": {},
   "source": [
    "## Attach an optimizer and loss function"
   ]
  },
  {
   "cell_type": "code",
   "execution_count": 18,
   "metadata": {},
   "outputs": [],
   "source": [
    "def loss(labels, logits):\n",
    "    return tf.keras.losses.sparse_categorical_crossentropy(labels, logits)"
   ]
  },
  {
   "cell_type": "code",
   "execution_count": 19,
   "metadata": {},
   "outputs": [
    {
     "name": "stdout",
     "output_type": "stream",
     "text": [
      "Prediction shape: (64, 100, 65) # (batch size, sequence length, vocab size)\n",
      "Scalar loss: 4.173377513885498\n"
     ]
    }
   ],
   "source": [
    "for y_ex_batch, t_ex_batch in dataset.take(1):\n",
    "    ex_batch_pred = model(y_ex_batch)\n",
    "    ex_batch_loss = loss(t_ex_batch, ex_batch_pred)\n",
    "    print(\"Prediction shape: {} # (batch size, sequence length, vocab size)\".format(ex_batch_pred.shape))\n",
    "    print(\"Scalar loss: {}\".format(ex_batch_loss.numpy().mean()))"
   ]
  },
  {
   "cell_type": "code",
   "execution_count": null,
   "metadata": {},
   "outputs": [],
   "source": []
  },
  {
   "cell_type": "code",
   "execution_count": null,
   "metadata": {},
   "outputs": [],
   "source": []
  },
  {
   "cell_type": "code",
   "execution_count": null,
   "metadata": {},
   "outputs": [],
   "source": []
  },
  {
   "cell_type": "code",
   "execution_count": null,
   "metadata": {},
   "outputs": [],
   "source": []
  },
  {
   "cell_type": "code",
   "execution_count": null,
   "metadata": {},
   "outputs": [],
   "source": []
  },
  {
   "cell_type": "code",
   "execution_count": null,
   "metadata": {},
   "outputs": [],
   "source": []
  },
  {
   "cell_type": "code",
   "execution_count": null,
   "metadata": {},
   "outputs": [],
   "source": []
  },
  {
   "cell_type": "code",
   "execution_count": null,
   "metadata": {},
   "outputs": [],
   "source": []
  },
  {
   "cell_type": "code",
   "execution_count": null,
   "metadata": {},
   "outputs": [],
   "source": []
  }
 ],
 "metadata": {
  "kernelspec": {
   "display_name": "Python 3",
   "language": "python",
   "name": "python3"
  },
  "language_info": {
   "codemirror_mode": {
    "name": "ipython",
    "version": 3
   },
   "file_extension": ".py",
   "mimetype": "text/x-python",
   "name": "python",
   "nbconvert_exporter": "python",
   "pygments_lexer": "ipython3",
   "version": "3.6.8"
  }
 },
 "nbformat": 4,
 "nbformat_minor": 2
}
