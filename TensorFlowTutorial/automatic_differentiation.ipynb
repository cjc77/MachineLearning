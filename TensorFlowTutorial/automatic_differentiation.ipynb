{
 "cells": [
  {
   "cell_type": "code",
   "execution_count": 1,
   "metadata": {},
   "outputs": [
    {
     "name": "stderr",
     "output_type": "stream",
     "text": [
      "C:\\Users\\carso\\Anaconda3\\envs\\tflow\\lib\\site-packages\\h5py\\__init__.py:36: FutureWarning: Conversion of the second argument of issubdtype from `float` to `np.floating` is deprecated. In future, it will be treated as `np.float64 == np.dtype(float).type`.\n",
      "  from ._conv import register_converters as _register_converters\n"
     ]
    }
   ],
   "source": [
    "import tensorflow as tf\n",
    "import numpy as np\n",
    "import math\n",
    "tf.enable_eager_execution()"
   ]
  },
  {
   "cell_type": "markdown",
   "metadata": {},
   "source": [
    "# Gradient tapes"
   ]
  },
  {
   "cell_type": "code",
   "execution_count": 2,
   "metadata": {},
   "outputs": [
    {
     "name": "stdout",
     "output_type": "stream",
     "text": [
      "x:\n",
      "[[1. 1.]\n",
      " [1. 1.]]\n",
      "y:\n",
      "4.0\n",
      "z:\n",
      "16.0\n",
      "dz/dy:\n",
      "[[8. 8.]\n",
      " [8. 8.]]\n"
     ]
    }
   ],
   "source": [
    "x = tf.ones((2, 2))\n",
    "print(\"x:\\n{}\".format(x))\n",
    "\n",
    "with tf.GradientTape() as t:\n",
    "    t.watch(x)\n",
    "    y = tf.reduce_sum(x)\n",
    "    print(\"y:\\n{}\".format(y))\n",
    "    z = tf.multiply(y, y)\n",
    "    print(\"z:\\n{}\".format(z))\n",
    "    \n",
    "# Derivative of z with respect to original input tensor x\n",
    "dz_dx = t.gradient(z, x)\n",
    "print(\"dz/dy:\\n{}\".format(dz_dx))\n",
    "for i in [0, 1]:\n",
    "    for j in [0, 1]:\n",
    "        assert dz_dx[i][j].numpy() == 8.0"
   ]
  },
  {
   "cell_type": "code",
   "execution_count": 3,
   "metadata": {},
   "outputs": [
    {
     "name": "stdout",
     "output_type": "stream",
     "text": [
      "x:\n",
      "[[1. 1.]\n",
      " [1. 1.]]\n",
      "y:\n",
      "4.0\n",
      "z:\n",
      "16.0\n",
      "dz/dy:\n",
      "8.0\n"
     ]
    }
   ],
   "source": [
    "x = tf.ones((2, 2))\n",
    "print(\"x:\\n{}\".format(x))\n",
    "\n",
    "with tf.GradientTape() as t:\n",
    "    t.watch(x)\n",
    "    y = tf.reduce_sum(x)\n",
    "    print(\"y:\\n{}\".format(y))\n",
    "    z = tf.multiply(y, y)\n",
    "    print(\"z:\\n{}\".format(z))\n",
    "    \n",
    "# Use tape to compute the derivative of z with respect to the\n",
    "# intermediate value y\n",
    "dz_dy = t.gradient(z, y)\n",
    "print(\"dz/dy:\\n{}\".format(dz_dy))\n",
    "assert dz_dy.numpy() == 8.0"
   ]
  },
  {
   "cell_type": "code",
   "execution_count": 4,
   "metadata": {},
   "outputs": [
    {
     "name": "stdout",
     "output_type": "stream",
     "text": [
      "x:\n",
      "3.0\n",
      "y: 9.0\n",
      "z: 81.0\n",
      "dz/dx: 108.0\n",
      "dy/dx: 6.0\n"
     ]
    }
   ],
   "source": [
    "# Creating a persistent gradient tape in order to perform multiple gradients\n",
    "\n",
    "x = tf.constant(3.0)\n",
    "print(\"x:\\n{}\".format(x))\n",
    "\n",
    "with tf.GradientTape(persistent=True) as t:\n",
    "    t.watch(x)\n",
    "    y = x * x\n",
    "    print(\"y: {}\".format(y))\n",
    "    z = y * y\n",
    "    print(\"z: {}\".format(z))\n",
    "    \n",
    "# 108.0 -> d/dx x^4 -> (4 * x^3 @ x = 3)\n",
    "dz_dx = t.gradient(z, x)\n",
    "print(\"dz/dx: {}\".format(dz_dx))\n",
    "\n",
    "# 6.0 -> d/dx x^2 -> (2 * x @ x = 3)\n",
    "dy_dx = t.gradient(y, x)\n",
    "print(\"dy/dx: {}\".format(dy_dx))"
   ]
  },
  {
   "cell_type": "markdown",
   "metadata": {},
   "source": [
    "## Recording control flow"
   ]
  },
  {
   "cell_type": "code",
   "execution_count": 16,
   "metadata": {},
   "outputs": [
    {
     "name": "stdout",
     "output_type": "stream",
     "text": [
      "out: 8.0\n",
      "out: 8.0\n",
      "out: 4.0\n"
     ]
    }
   ],
   "source": [
    "def f(x, y):\n",
    "    output = 1.0\n",
    "    for i in range(y):\n",
    "        if i > 1 and i < 5:\n",
    "            output = tf.multiply(output, x)\n",
    "    return output\n",
    "\n",
    "def grad(x, y):\n",
    "    with tf.GradientTape() as t:\n",
    "        t.watch(x)\n",
    "        out = f(x, y)\n",
    "        print(\"out: {}\".format(out))\n",
    "    return t.gradient(out, x)\n",
    "\n",
    "x = tf.convert_to_tensor(2.0)\n",
    "\n",
    "assert grad(x, 6).numpy() == 12.0\n",
    "assert grad(x, 5).numpy() == 12.0\n",
    "assert grad(x, 4).numpy() == 4.0"
   ]
  },
  {
   "cell_type": "markdown",
   "metadata": {},
   "source": [
    "## Higher-order gradients"
   ]
  },
  {
   "cell_type": "code",
   "execution_count": 23,
   "metadata": {},
   "outputs": [
    {
     "name": "stdout",
     "output_type": "stream",
     "text": [
      "dy/dx: 3.0\n",
      "d2y/dx2: 6.0\n"
     ]
    }
   ],
   "source": [
    "x = tf.contrib.eager.Variable(1.0)\n",
    "\n",
    "with tf.GradientTape() as t1:\n",
    "    with tf.GradientTape() as t2:\n",
    "        y = x * x * x\n",
    "    # compute gradient inside the 't1' context manager\n",
    "    # which means gradient computation is differentiable as well\n",
    "    dy_dx = t2.gradient(y, x)\n",
    "d2y_dx2 = t1.gradient(dy_dx, x)\n",
    "print(\"dy/dx: {}\".format(dy_dx))\n",
    "print(\"d2y/dx2: {}\".format(d2y_dx2))"
   ]
  },
  {
   "cell_type": "code",
   "execution_count": null,
   "metadata": {},
   "outputs": [],
   "source": []
  },
  {
   "cell_type": "code",
   "execution_count": null,
   "metadata": {},
   "outputs": [],
   "source": []
  },
  {
   "cell_type": "code",
   "execution_count": null,
   "metadata": {},
   "outputs": [],
   "source": []
  },
  {
   "cell_type": "code",
   "execution_count": null,
   "metadata": {},
   "outputs": [],
   "source": []
  },
  {
   "cell_type": "code",
   "execution_count": null,
   "metadata": {},
   "outputs": [],
   "source": []
  },
  {
   "cell_type": "code",
   "execution_count": null,
   "metadata": {},
   "outputs": [],
   "source": []
  },
  {
   "cell_type": "code",
   "execution_count": null,
   "metadata": {},
   "outputs": [],
   "source": []
  },
  {
   "cell_type": "code",
   "execution_count": null,
   "metadata": {},
   "outputs": [],
   "source": []
  },
  {
   "cell_type": "code",
   "execution_count": null,
   "metadata": {},
   "outputs": [],
   "source": []
  },
  {
   "cell_type": "code",
   "execution_count": null,
   "metadata": {},
   "outputs": [],
   "source": []
  },
  {
   "cell_type": "code",
   "execution_count": null,
   "metadata": {},
   "outputs": [],
   "source": []
  },
  {
   "cell_type": "code",
   "execution_count": null,
   "metadata": {},
   "outputs": [],
   "source": []
  },
  {
   "cell_type": "code",
   "execution_count": null,
   "metadata": {},
   "outputs": [],
   "source": []
  }
 ],
 "metadata": {
  "kernelspec": {
   "display_name": "Python 3",
   "language": "python",
   "name": "python3"
  },
  "language_info": {
   "codemirror_mode": {
    "name": "ipython",
    "version": 3
   },
   "file_extension": ".py",
   "mimetype": "text/x-python",
   "name": "python",
   "nbconvert_exporter": "python",
   "pygments_lexer": "ipython3",
   "version": "3.5.5"
  }
 },
 "nbformat": 4,
 "nbformat_minor": 2
}
