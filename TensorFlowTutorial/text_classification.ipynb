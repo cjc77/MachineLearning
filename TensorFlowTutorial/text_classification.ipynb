{
 "cells": [
  {
   "cell_type": "code",
   "execution_count": 1,
   "metadata": {},
   "outputs": [
    {
     "name": "stderr",
     "output_type": "stream",
     "text": [
      "C:\\Users\\carso\\Anaconda3\\envs\\tflow\\lib\\site-packages\\h5py\\__init__.py:36: FutureWarning: Conversion of the second argument of issubdtype from `float` to `np.floating` is deprecated. In future, it will be treated as `np.float64 == np.dtype(float).type`.\n",
      "  from ._conv import register_converters as _register_converters\n"
     ]
    }
   ],
   "source": [
    "import numpy as np\n",
    "import matplotlib.pyplot as plt\n",
    "\n",
    "import tensorflow as tf\n",
    "from tensorflow import keras"
   ]
  },
  {
   "cell_type": "markdown",
   "metadata": {},
   "source": [
    "# Download the IMDB dataset"
   ]
  },
  {
   "cell_type": "code",
   "execution_count": 2,
   "metadata": {},
   "outputs": [],
   "source": [
    "imdb = keras.datasets.imdb\n",
    "# num_words=10000 means, discard the words that are not amongst the 10000 most common\n",
    "(train_data, train_labels), (test_data, test_labels) = imdb.load_data(num_words=10000)"
   ]
  },
  {
   "cell_type": "markdown",
   "metadata": {},
   "source": [
    "# Explore the data"
   ]
  },
  {
   "cell_type": "markdown",
   "metadata": {},
   "source": [
    "## Shape of the data"
   ]
  },
  {
   "cell_type": "code",
   "execution_count": 3,
   "metadata": {},
   "outputs": [
    {
     "name": "stdout",
     "output_type": "stream",
     "text": [
      "Training entries:(25000,), labels: (25000,)\n",
      "Training data review example:\n",
      "[1, 14, 22, 16, 43, 530, 973, 1622, 1385, 65, 458, 4468, 66, 3941, 4, 173, 36, 256, 5, 25, 100, 43, 838, 112, 50, 670, 2, 9, 35, 480, 284, 5, 150, 4, 172, 112, 167, 2, 336, 385, 39, 4, 172, 4536, 1111, 17, 546, 38, 13, 447, 4, 192, 50, 16, 6, 147, 2025, 19, 14, 22, 4, 1920, 4613, 469, 4, 22, 71, 87, 12, 16, 43, 530, 38, 76, 15, 13, 1247, 4, 22, 17, 515, 17, 12, 16, 626, 18, 2, 5, 62, 386, 12, 8, 316, 8, 106, 5, 4, 2223, 5244, 16, 480, 66, 3785, 33, 4, 130, 12, 16, 38, 619, 5, 25, 124, 51, 36, 135, 48, 25, 1415, 33, 6, 22, 12, 215, 28, 77, 52, 5, 14, 407, 16, 82, 2, 8, 4, 107, 117, 5952, 15, 256, 4, 2, 7, 3766, 5, 723, 36, 71, 43, 530, 476, 26, 400, 317, 46, 7, 4, 2, 1029, 13, 104, 88, 4, 381, 15, 297, 98, 32, 2071, 56, 26, 141, 6, 194, 7486, 18, 4, 226, 22, 21, 134, 476, 26, 480, 5, 144, 30, 5535, 18, 51, 36, 28, 224, 92, 25, 104, 4, 226, 65, 16, 38, 1334, 88, 12, 16, 283, 5, 16, 4472, 113, 103, 32, 15, 16, 5345, 19, 178, 32]\n",
      "Length of review 1: 218\n",
      "Length of review 2: 189\n"
     ]
    }
   ],
   "source": [
    "print(\"Training entries:{}, labels: {}\".format(\n",
    "    train_data.shape, train_labels.shape\n",
    "))\n",
    "\n",
    "# Text of the reviews has been converted to integers where the integer represents a word in a dictionary\n",
    "print(\"Training data review example:\\n{}\".format(\n",
    "    train_data[0]\n",
    "))\n",
    "\n",
    "# The training data is a jagged matrix\n",
    "print(\"Length of review 1: {}\\nLength of review 2: {}\".format(\n",
    "    len(train_data[0]), len(train_data[1])\n",
    "))"
   ]
  },
  {
   "cell_type": "markdown",
   "metadata": {},
   "source": [
    "## Converting integers back to words"
   ]
  },
  {
   "cell_type": "code",
   "execution_count": 4,
   "metadata": {},
   "outputs": [],
   "source": [
    "# words -> index\n",
    "word_index = imdb.get_word_index()\n",
    "\n",
    "# Map words to indices\n",
    "word_index = {k: (v + 3) for k, v in word_index.items()}\n",
    "len(word_index)\n",
    "word_index[\"<PAD>\"] = 0\n",
    "word_index[\"<START>\"] = 1\n",
    "word_index[\"<UNK>\"] = 2 # unknown\n",
    "word_index[\"UNUSED\"] = 3\n",
    "\n",
    "# Map indices to words\n",
    "index_word = {v: k for k, v in word_index.items()}\n",
    "\n",
    "def decode_review(text):\n",
    "    return \" \".join(index_word.get(w, \"???\") for w in text)"
   ]
  },
  {
   "cell_type": "code",
   "execution_count": 5,
   "metadata": {},
   "outputs": [
    {
     "data": {
      "text/plain": [
       "\"<START> this film was just brilliant casting location scenery story direction everyone's really suited the part they played and you could just imagine being there robert <UNK> is an amazing actor and now the same being director <UNK> father came from the same scottish island as myself so i loved the fact there was a real connection with this film the witty remarks throughout the film were great it was just brilliant so much that i bought the film as soon as it was released for <UNK> and would recommend it to everyone to watch and the fly fishing was amazing really cried at the end it was so sad and you know what they say if you cry at a film it must have been good and this definitely was also <UNK> to the two little boy's that played the <UNK> of norman and paul they were just brilliant children are often left out of the <UNK> list i think because the stars that play them all grown up are such a big profile for the whole film but these children are amazing and should be praised for what they have done don't you think the whole story was so lovely because it was true and was someone's life after all that was shared with us all\""
      ]
     },
     "execution_count": 5,
     "metadata": {},
     "output_type": "execute_result"
    }
   ],
   "source": [
    "decode_review(train_data[0])"
   ]
  },
  {
   "cell_type": "markdown",
   "metadata": {},
   "source": [
    "# Prepare the data\n",
    "\n",
    "The reviews must be converted into tensors before being fed into the network\n",
    "\n",
    "\n",
    "### Plan:\n",
    "Pad the inputs so that each review example is the size of the max length review example and set this value (MAX) to be the input size for the input layer"
   ]
  },
  {
   "cell_type": "code",
   "execution_count": 6,
   "metadata": {},
   "outputs": [
    {
     "data": {
      "image/png": "[encoded data removed]",
      "text/plain": [
       "<Figure size 432x288 with 1 Axes>"
      ]
     },
     "metadata": {},
     "output_type": "display_data"
    },
    {
     "data": {
      "image/png": "[encoded data removed]",
      "text/plain": [
       "<Figure size 432x288 with 1 Axes>"
      ]
     },
     "metadata": {},
     "output_type": "display_data"
    },
    {
     "data": {
      "text/plain": [
       "<Figure size 432x288 with 0 Axes>"
      ]
     },
     "metadata": {},
     "output_type": "display_data"
    }
   ],
   "source": [
    "# We see that almost all reviews are less than 500 words in length\n",
    "lens_train = [len(r) for r in train_data]\n",
    "plt.hist(lens_train, bins=\"auto\")\n",
    "plt.show()\n",
    "plt.clf()\n",
    "\n",
    "lens_test = [len(r) for r in test_data]\n",
    "plt.hist(lens_test, bins=\"auto\")\n",
    "plt.show()\n",
    "plt.clf()"
   ]
  },
  {
   "cell_type": "code",
   "execution_count": 15,
   "metadata": {},
   "outputs": [],
   "source": [
    "# Use a power of 2 for simplicity\n",
    "# MAX = 512\n",
    "# 256 seems to get slightly better performance\n",
    "MAX = 256\n",
    "\n",
    "train_data = keras.preprocessing.sequence.pad_sequences(train_data,\n",
    "                                                        value=word_index[\"<PAD>\"],\n",
    "                                                        padding=\"post\",\n",
    "                                                        maxlen=MAX)\n",
    "test_data = keras.preprocessing.sequence.pad_sequences(test_data,\n",
    "                                                       value=word_index[\"<PAD>\"],\n",
    "                                                       padding=\"post\",\n",
    "                                                       maxlen=MAX)"
   ]
  },
  {
   "cell_type": "code",
   "execution_count": 8,
   "metadata": {},
   "outputs": [
    {
     "name": "stdout",
     "output_type": "stream",
     "text": [
      "Length of examples after padding:\n",
      "Example 5326: 256, Example 100: 256\n",
      "Training Review 0: [   1   14   22   16   43  530  973 1622 1385   65  458 4468   66 3941\n",
      "    4  173   36  256    5   25  100   43  838  112   50  670    2    9\n",
      "   35  480  284    5  150    4  172  112  167    2  336  385   39    4\n",
      "  172 4536 1111   17  546   38   13  447    4  192   50   16    6  147\n",
      " 2025   19   14   22    4 1920 4613  469    4   22   71   87   12   16\n",
      "   43  530   38   76   15   13 1247    4   22   17  515   17   12   16\n",
      "  626   18    2    5   62  386   12    8  316    8  106    5    4 2223\n",
      " 5244   16  480   66 3785   33    4  130   12   16   38  619    5   25\n",
      "  124   51   36  135   48   25 1415   33    6   22   12  215   28   77\n",
      "   52    5   14  407   16   82    2    8    4  107  117 5952   15  256\n",
      "    4    2    7 3766    5  723   36   71   43  530  476   26  400  317\n",
      "   46    7    4    2 1029   13  104   88    4  381   15  297   98   32\n",
      " 2071   56   26  141    6  194 7486   18    4  226   22   21  134  476\n",
      "   26  480    5  144   30 5535   18   51   36   28  224   92   25  104\n",
      "    4  226   65   16   38 1334   88   12   16  283    5   16 4472  113\n",
      "  103   32   15   16 5345   19  178   32    0    0    0    0    0    0\n",
      "    0    0    0    0    0    0    0    0    0    0    0    0    0    0\n",
      "    0    0    0    0    0    0    0    0    0    0    0    0    0    0\n",
      "    0    0    0    0]\n",
      "Training Review 0 (in words): <START> this film was just brilliant casting location scenery story direction everyone's really suited the part they played and you could just imagine being there robert <UNK> is an amazing actor and now the same being director <UNK> father came from the same scottish island as myself so i loved the fact there was a real connection with this film the witty remarks throughout the film were great it was just brilliant so much that i bought the film as soon as it was released for <UNK> and would recommend it to everyone to watch and the fly fishing was amazing really cried at the end it was so sad and you know what they say if you cry at a film it must have been good and this definitely was also <UNK> to the two little boy's that played the <UNK> of norman and paul they were just brilliant children are often left out of the <UNK> list i think because the stars that play them all grown up are such a big profile for the whole film but these children are amazing and should be praised for what they have done don't you think the whole story was so lovely because it was true and was someone's life after all that was shared with us all <PAD> <PAD> <PAD> <PAD> <PAD> <PAD> <PAD> <PAD> <PAD> <PAD> <PAD> <PAD> <PAD> <PAD> <PAD> <PAD> <PAD> <PAD> <PAD> <PAD> <PAD> <PAD> <PAD> <PAD> <PAD> <PAD> <PAD> <PAD> <PAD> <PAD> <PAD> <PAD> <PAD> <PAD> <PAD> <PAD> <PAD> <PAD>\n"
     ]
    }
   ],
   "source": [
    "i1 = np.random.randint(low=0, high=len(train_data))\n",
    "i2 = np.random.randint(low=0, high=len(train_data))\n",
    "print(\"Length of examples after padding:\\nExample {}: {}, Example {}: {}\".format(\n",
    "    i1, len(train_data[i1]), i2, len(train_data[i1])\n",
    "))\n",
    "\n",
    "print(\"Training Review 0: {}\".format(train_data[0]))\n",
    "print(\"Training Review 0 (in words): {}\".format(decode_review(train_data[0])))"
   ]
  },
  {
   "cell_type": "markdown",
   "metadata": {},
   "source": [
    "# Build the model"
   ]
  },
  {
   "cell_type": "code",
   "execution_count": 9,
   "metadata": {},
   "outputs": [
    {
     "name": "stdout",
     "output_type": "stream",
     "text": [
      "_________________________________________________________________\n",
      "Layer (type)                 Output Shape              Param #   \n",
      "=================================================================\n",
      "embedding (Embedding)        (None, None, 16)          160000    \n",
      "_________________________________________________________________\n",
      "global_average_pooling1d (Gl (None, 16)                0         \n",
      "_________________________________________________________________\n",
      "dense (Dense)                (None, 16)                272       \n",
      "_________________________________________________________________\n",
      "dense_1 (Dense)              (None, 1)                 17        \n",
      "=================================================================\n",
      "Total params: 160,289\n",
      "Trainable params: 160,289\n",
      "Non-trainable params: 0\n",
      "_________________________________________________________________\n"
     ]
    }
   ],
   "source": [
    "vocab_size = 10000\n",
    "\n",
    "model = keras.Sequential()\n",
    "model.add(keras.layers.Embedding(vocab_size, 16))\n",
    "model.add(keras.layers.GlobalAveragePooling1D())\n",
    "model.add(keras.layers.Dense(16, activation=tf.nn.relu))\n",
    "model.add(keras.layers.Dense(1, activation=tf.nn.sigmoid))\n",
    "\n",
    "model.summary()\n",
    "\n",
    "# Still need to add the loss function and optimizer\n",
    "model.compile(optimizer=tf.train.AdamOptimizer(),\n",
    "              loss=\"binary_crossentropy\",\n",
    "              metrics=[\"accuracy\"])"
   ]
  },
  {
   "cell_type": "markdown",
   "metadata": {},
   "source": [
    "# Create a validation set"
   ]
  },
  {
   "cell_type": "code",
   "execution_count": 10,
   "metadata": {},
   "outputs": [],
   "source": [
    "x_val = train_data[:10000]\n",
    "partial_x_train = train_data[10000:]\n",
    "\n",
    "y_val = train_labels[:10000]\n",
    "partial_y_train = train_labels[10000:]"
   ]
  },
  {
   "cell_type": "markdown",
   "metadata": {},
   "source": [
    "# Train the model"
   ]
  },
  {
   "cell_type": "code",
   "execution_count": 11,
   "metadata": {},
   "outputs": [
    {
     "name": "stdout",
     "output_type": "stream",
     "text": [
      "Train on 15000 samples, validate on 10000 samples\n",
      "Epoch 1/50\n",
      "15000/15000 [==============================] - 1s 63us/step - loss: 0.7223 - acc: 0.4965 - val_loss: 0.6995 - val_acc: 0.5053\n",
      "Epoch 2/50\n",
      "15000/15000 [==============================] - 1s 46us/step - loss: 0.6966 - acc: 0.4965 - val_loss: 0.6924 - val_acc: 0.5053\n",
      "Epoch 3/50\n",
      "15000/15000 [==============================] - 1s 46us/step - loss: 0.6921 - acc: 0.5333 - val_loss: 0.6915 - val_acc: 0.5580\n",
      "Epoch 4/50\n",
      "15000/15000 [==============================] - 1s 45us/step - loss: 0.6910 - acc: 0.5644 - val_loss: 0.6908 - val_acc: 0.5493\n",
      "Epoch 5/50\n",
      "15000/15000 [==============================] - 1s 46us/step - loss: 0.6902 - acc: 0.5572 - val_loss: 0.6900 - val_acc: 0.5382\n",
      "Epoch 6/50\n",
      "15000/15000 [==============================] - 1s 45us/step - loss: 0.6881 - acc: 0.5522 - val_loss: 0.6873 - val_acc: 0.5643\n",
      "Epoch 7/50\n",
      "15000/15000 [==============================] - 1s 45us/step - loss: 0.6845 - acc: 0.5918 - val_loss: 0.6835 - val_acc: 0.6054\n",
      "Epoch 8/50\n",
      "15000/15000 [==============================] - 1s 45us/step - loss: 0.6797 - acc: 0.6620 - val_loss: 0.6785 - val_acc: 0.6584\n",
      "Epoch 9/50\n",
      "15000/15000 [==============================] - 1s 45us/step - loss: 0.6724 - acc: 0.7208 - val_loss: 0.6703 - val_acc: 0.7346\n",
      "Epoch 10/50\n",
      "15000/15000 [==============================] - 1s 46us/step - loss: 0.6637 - acc: 0.7543 - val_loss: 0.6620 - val_acc: 0.7501\n",
      "Epoch 11/50\n",
      "15000/15000 [==============================] - 1s 46us/step - loss: 0.6533 - acc: 0.7757 - val_loss: 0.6520 - val_acc: 0.7604\n",
      "Epoch 12/50\n",
      "15000/15000 [==============================] - 1s 46us/step - loss: 0.6413 - acc: 0.7796 - val_loss: 0.6394 - val_acc: 0.7727\n",
      "Epoch 13/50\n",
      "15000/15000 [==============================] - 1s 45us/step - loss: 0.6267 - acc: 0.7879 - val_loss: 0.6251 - val_acc: 0.7712\n",
      "Epoch 14/50\n",
      "15000/15000 [==============================] - 1s 45us/step - loss: 0.6094 - acc: 0.7977 - val_loss: 0.6087 - val_acc: 0.7863\n",
      "Epoch 15/50\n",
      "15000/15000 [==============================] - 1s 45us/step - loss: 0.5900 - acc: 0.8054 - val_loss: 0.5903 - val_acc: 0.7914\n",
      "Epoch 16/50\n",
      "15000/15000 [==============================] - 1s 46us/step - loss: 0.5688 - acc: 0.8105 - val_loss: 0.5702 - val_acc: 0.7974\n",
      "Epoch 17/50\n",
      "15000/15000 [==============================] - 1s 45us/step - loss: 0.5456 - acc: 0.8191 - val_loss: 0.5495 - val_acc: 0.8037\n",
      "Epoch 18/50\n",
      "15000/15000 [==============================] - 1s 45us/step - loss: 0.5217 - acc: 0.8271 - val_loss: 0.5273 - val_acc: 0.8121\n",
      "Epoch 19/50\n",
      "15000/15000 [==============================] - 1s 46us/step - loss: 0.4968 - acc: 0.8337 - val_loss: 0.5044 - val_acc: 0.8191\n",
      "Epoch 20/50\n",
      "15000/15000 [==============================] - 1s 46us/step - loss: 0.4702 - acc: 0.8424 - val_loss: 0.4799 - val_acc: 0.8228\n",
      "Epoch 21/50\n",
      "15000/15000 [==============================] - 1s 46us/step - loss: 0.4435 - acc: 0.8517 - val_loss: 0.4568 - val_acc: 0.8331\n",
      "Epoch 22/50\n",
      "15000/15000 [==============================] - 1s 45us/step - loss: 0.4187 - acc: 0.8601 - val_loss: 0.4365 - val_acc: 0.8381\n",
      "Epoch 23/50\n",
      "15000/15000 [==============================] - 1s 45us/step - loss: 0.3955 - acc: 0.8658 - val_loss: 0.4168 - val_acc: 0.8462\n",
      "Epoch 24/50\n",
      "15000/15000 [==============================] - 1s 46us/step - loss: 0.3745 - acc: 0.8741 - val_loss: 0.4006 - val_acc: 0.8502\n",
      "Epoch 25/50\n",
      "15000/15000 [==============================] - 1s 46us/step - loss: 0.3562 - acc: 0.8805 - val_loss: 0.3856 - val_acc: 0.8542\n",
      "Epoch 26/50\n",
      "15000/15000 [==============================] - 1s 46us/step - loss: 0.3395 - acc: 0.8836 - val_loss: 0.3729 - val_acc: 0.8571\n",
      "Epoch 27/50\n",
      "15000/15000 [==============================] - 1s 45us/step - loss: 0.3245 - acc: 0.8897 - val_loss: 0.3618 - val_acc: 0.8606\n",
      "Epoch 28/50\n",
      "15000/15000 [==============================] - 1s 45us/step - loss: 0.3116 - acc: 0.8913 - val_loss: 0.3522 - val_acc: 0.8639\n",
      "Epoch 29/50\n",
      "15000/15000 [==============================] - 1s 45us/step - loss: 0.2999 - acc: 0.8946 - val_loss: 0.3441 - val_acc: 0.8665\n",
      "Epoch 30/50\n",
      "15000/15000 [==============================] - 1s 45us/step - loss: 0.2888 - acc: 0.8977 - val_loss: 0.3370 - val_acc: 0.8698\n",
      "Epoch 31/50\n",
      "15000/15000 [==============================] - 1s 45us/step - loss: 0.2790 - acc: 0.9011 - val_loss: 0.3309 - val_acc: 0.8703\n",
      "Epoch 32/50\n",
      "15000/15000 [==============================] - 1s 46us/step - loss: 0.2699 - acc: 0.9042 - val_loss: 0.3255 - val_acc: 0.8729\n",
      "Epoch 33/50\n",
      "15000/15000 [==============================] - 1s 46us/step - loss: 0.2617 - acc: 0.9070 - val_loss: 0.3217 - val_acc: 0.8727\n",
      "Epoch 34/50\n",
      "15000/15000 [==============================] - 1s 45us/step - loss: 0.2541 - acc: 0.9093 - val_loss: 0.3163 - val_acc: 0.8743\n",
      "Epoch 35/50\n",
      "15000/15000 [==============================] - 1s 45us/step - loss: 0.2469 - acc: 0.9111 - val_loss: 0.3128 - val_acc: 0.8760\n",
      "Epoch 36/50\n",
      "15000/15000 [==============================] - 1s 45us/step - loss: 0.2398 - acc: 0.9141 - val_loss: 0.3091 - val_acc: 0.8767\n",
      "Epoch 37/50\n",
      "15000/15000 [==============================] - 1s 45us/step - loss: 0.2332 - acc: 0.9167 - val_loss: 0.3062 - val_acc: 0.8774\n",
      "Epoch 38/50\n",
      "15000/15000 [==============================] - 1s 45us/step - loss: 0.2273 - acc: 0.9181 - val_loss: 0.3044 - val_acc: 0.8775\n",
      "Epoch 39/50\n",
      "15000/15000 [==============================] - 1s 45us/step - loss: 0.2220 - acc: 0.9207 - val_loss: 0.3012 - val_acc: 0.8789\n",
      "Epoch 40/50\n",
      "15000/15000 [==============================] - 1s 46us/step - loss: 0.2158 - acc: 0.9225 - val_loss: 0.2989 - val_acc: 0.8799\n",
      "Epoch 41/50\n",
      "15000/15000 [==============================] - 1s 44us/step - loss: 0.2102 - acc: 0.9247 - val_loss: 0.2971 - val_acc: 0.8804\n",
      "Epoch 42/50\n",
      "15000/15000 [==============================] - 1s 45us/step - loss: 0.2051 - acc: 0.9277 - val_loss: 0.2962 - val_acc: 0.8788\n",
      "Epoch 43/50\n",
      "15000/15000 [==============================] - 1s 46us/step - loss: 0.2004 - acc: 0.9293 - val_loss: 0.2939 - val_acc: 0.8808\n",
      "Epoch 44/50\n",
      "15000/15000 [==============================] - 1s 45us/step - loss: 0.1956 - acc: 0.9307 - val_loss: 0.2934 - val_acc: 0.8805\n",
      "Epoch 45/50\n",
      "15000/15000 [==============================] - 1s 45us/step - loss: 0.1910 - acc: 0.9325 - val_loss: 0.2916 - val_acc: 0.8817\n",
      "Epoch 46/50\n",
      "15000/15000 [==============================] - 1s 44us/step - loss: 0.1868 - acc: 0.9351 - val_loss: 0.2911 - val_acc: 0.8814\n",
      "Epoch 47/50\n",
      "15000/15000 [==============================] - 1s 45us/step - loss: 0.1825 - acc: 0.9377 - val_loss: 0.2898 - val_acc: 0.8826\n",
      "Epoch 48/50\n",
      "15000/15000 [==============================] - 1s 45us/step - loss: 0.1782 - acc: 0.9384 - val_loss: 0.2896 - val_acc: 0.8833\n",
      "Epoch 49/50\n",
      "15000/15000 [==============================] - 1s 45us/step - loss: 0.1745 - acc: 0.9405 - val_loss: 0.2886 - val_acc: 0.8827\n",
      "Epoch 50/50\n",
      "15000/15000 [==============================] - 1s 45us/step - loss: 0.1703 - acc: 0.9428 - val_loss: 0.2884 - val_acc: 0.8825\n"
     ]
    }
   ],
   "source": [
    "history = model.fit(\n",
    "    partial_x_train,\n",
    "    partial_y_train,\n",
    "    epochs=50,\n",
    "    batch_size=512,\n",
    "    validation_data=(x_val, y_val),\n",
    "    verbose=1\n",
    ")"
   ]
  },
  {
   "cell_type": "code",
   "execution_count": 12,
   "metadata": {},
   "outputs": [
    {
     "name": "stdout",
     "output_type": "stream",
     "text": [
      "25000/25000 [==============================] - 0s 11us/step\n",
      "[0.30285026637077334, 0.87712]\n"
     ]
    }
   ],
   "source": [
    "results = model.evaluate(test_data, test_labels)\n",
    "print(results)"
   ]
  },
  {
   "cell_type": "markdown",
   "metadata": {},
   "source": [
    "# Visualize"
   ]
  },
  {
   "cell_type": "code",
   "execution_count": 13,
   "metadata": {},
   "outputs": [
    {
     "name": "stdout",
     "output_type": "stream",
     "text": [
      "dict_keys(['val_loss', 'acc', 'val_acc', 'loss'])\n"
     ]
    }
   ],
   "source": [
    "h = history.history\n",
    "print(h.keys())"
   ]
  },
  {
   "cell_type": "code",
   "execution_count": 14,
   "metadata": {},
   "outputs": [
    {
     "data": {
      "image/png": "[encoded data removed]",
      "text/plain": [
       "<Figure size 432x288 with 1 Axes>"
      ]
     },
     "metadata": {},
     "output_type": "display_data"
    },
    {
     "data": {
      "image/png": "[encoded data removed]",
      "text/plain": [
       "<Figure size 432x288 with 1 Axes>"
      ]
     },
     "metadata": {},
     "output_type": "display_data"
    },
    {
     "data": {
      "text/plain": [
       "<Figure size 432x288 with 0 Axes>"
      ]
     },
     "metadata": {},
     "output_type": "display_data"
    }
   ],
   "source": [
    "epochs = range(1, len(h[\"acc\"]) + 1)\n",
    "\n",
    "plt.plot(epochs, h[\"loss\"], \"b\", label=\"Training loss\")\n",
    "plt.plot(epochs, h[\"val_loss\"], \"r\", label=\"Validation loss\")\n",
    "plt.title(\"Training and validation loss\")\n",
    "plt.xlabel(\"Epochs\")\n",
    "plt.ylabel(\"Loss\")\n",
    "plt.legend()\n",
    "plt.show()\n",
    "plt.clf()\n",
    "\n",
    "plt.plot(epochs, h[\"acc\"], \"b\", label=\"Training acc\")\n",
    "plt.plot(epochs, h[\"val_acc\"], \"r\", label=\"Validation acc\")\n",
    "plt.title(\"Training and validation accuracy\")\n",
    "plt.xlabel(\"Epochs\")\n",
    "plt.ylabel(\"Accuracy\")\n",
    "plt.legend()\n",
    "plt.show()\n",
    "plt.clf()"
   ]
  },
  {
   "cell_type": "code",
   "execution_count": null,
   "metadata": {},
   "outputs": [],
   "source": []
  },
  {
   "cell_type": "code",
   "execution_count": null,
   "metadata": {},
   "outputs": [],
   "source": []
  },
  {
   "cell_type": "code",
   "execution_count": null,
   "metadata": {},
   "outputs": [],
   "source": []
  },
  {
   "cell_type": "code",
   "execution_count": null,
   "metadata": {},
   "outputs": [],
   "source": []
  },
  {
   "cell_type": "code",
   "execution_count": null,
   "metadata": {},
   "outputs": [],
   "source": []
  },
  {
   "cell_type": "code",
   "execution_count": null,
   "metadata": {},
   "outputs": [],
   "source": []
  },
  {
   "cell_type": "code",
   "execution_count": null,
   "metadata": {},
   "outputs": [],
   "source": []
  },
  {
   "cell_type": "code",
   "execution_count": null,
   "metadata": {},
   "outputs": [],
   "source": []
  }
 ],
 "metadata": {
  "kernelspec": {
   "display_name": "Python 3",
   "language": "python",
   "name": "python3"
  },
  "language_info": {
   "codemirror_mode": {
    "name": "ipython",
    "version": 3
   },
   "file_extension": ".py",
   "mimetype": "text/x-python",
   "name": "python",
   "nbconvert_exporter": "python",
   "pygments_lexer": "ipython3",
   "version": "3.5.5"
  }
 },
 "nbformat": 4,
 "nbformat_minor": 2
}
