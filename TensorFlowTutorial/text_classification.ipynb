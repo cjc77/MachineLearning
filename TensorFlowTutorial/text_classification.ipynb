{
 "cells": [
  {
   "cell_type": "code",
   "execution_count": 1,
   "metadata": {},
   "outputs": [],
   "source": [
    "import numpy as np\n",
    "import matplotlib.pyplot as plt\n",
    "\n",
    "import tensorflow as tf\n",
    "from tensorflow import keras"
   ]
  },
  {
   "cell_type": "markdown",
   "metadata": {},
   "source": [
    "# Download the IMDB dataset"
   ]
  },
  {
   "cell_type": "code",
   "execution_count": 2,
   "metadata": {},
   "outputs": [],
   "source": [
    "imdb = keras.datasets.imdb\n",
    "# num_words=10000 means, discard the words that are not amongst the 10000 most common\n",
    "(train_data, train_labels), (test_data, test_labels) = imdb.load_data(num_words=10000)"
   ]
  },
  {
   "cell_type": "markdown",
   "metadata": {},
   "source": [
    "# Explore the data"
   ]
  },
  {
   "cell_type": "markdown",
   "metadata": {},
   "source": [
    "## Shape of the data"
   ]
  },
  {
   "cell_type": "code",
   "execution_count": 3,
   "metadata": {},
   "outputs": [
    {
     "name": "stdout",
     "output_type": "stream",
     "text": [
      "Training entries:(25000,), labels: (25000,)\n",
      "Training data review example:\n",
      "[1, 14, 22, 16, 43, 530, 973, 1622, 1385, 65, 458, 4468, 66, 3941, 4, 173, 36, 256, 5, 25, 100, 43, 838, 112, 50, 670, 2, 9, 35, 480, 284, 5, 150, 4, 172, 112, 167, 2, 336, 385, 39, 4, 172, 4536, 1111, 17, 546, 38, 13, 447, 4, 192, 50, 16, 6, 147, 2025, 19, 14, 22, 4, 1920, 4613, 469, 4, 22, 71, 87, 12, 16, 43, 530, 38, 76, 15, 13, 1247, 4, 22, 17, 515, 17, 12, 16, 626, 18, 2, 5, 62, 386, 12, 8, 316, 8, 106, 5, 4, 2223, 5244, 16, 480, 66, 3785, 33, 4, 130, 12, 16, 38, 619, 5, 25, 124, 51, 36, 135, 48, 25, 1415, 33, 6, 22, 12, 215, 28, 77, 52, 5, 14, 407, 16, 82, 2, 8, 4, 107, 117, 5952, 15, 256, 4, 2, 7, 3766, 5, 723, 36, 71, 43, 530, 476, 26, 400, 317, 46, 7, 4, 2, 1029, 13, 104, 88, 4, 381, 15, 297, 98, 32, 2071, 56, 26, 141, 6, 194, 7486, 18, 4, 226, 22, 21, 134, 476, 26, 480, 5, 144, 30, 5535, 18, 51, 36, 28, 224, 92, 25, 104, 4, 226, 65, 16, 38, 1334, 88, 12, 16, 283, 5, 16, 4472, 113, 103, 32, 15, 16, 5345, 19, 178, 32]\n",
      "Length of review 1: 218\n",
      "Length of review 2: 189\n"
     ]
    }
   ],
   "source": [
    "print(\"Training entries:{}, labels: {}\".format(\n",
    "    train_data.shape, train_labels.shape\n",
    "))\n",
    "\n",
    "# Text of the reviews has been converted to integers where the integer represents a word in a dictionary\n",
    "print(\"Training data review example:\\n{}\".format(\n",
    "    train_data[0]\n",
    "))\n",
    "\n",
    "# The training data is a jagged matrix\n",
    "print(\"Length of review 1: {}\\nLength of review 2: {}\".format(\n",
    "    len(train_data[0]), len(train_data[1])\n",
    "))"
   ]
  },
  {
   "cell_type": "markdown",
   "metadata": {},
   "source": [
    "## Converting integers back to words"
   ]
  },
  {
   "cell_type": "code",
   "execution_count": 4,
   "metadata": {},
   "outputs": [],
   "source": [
    "# words -> index\n",
    "word_index = imdb.get_word_index()\n",
    "\n",
    "# Map words to indices\n",
    "word_index = {k: (v + 3) for k, v in word_index.items()}\n",
    "len(word_index)\n",
    "word_index[\"<PAD>\"] = 0\n",
    "word_index[\"<START>\"] = 1\n",
    "word_index[\"<UNK>\"] = 2 # unknown\n",
    "word_index[\"UNUSED\"] = 3\n",
    "\n",
    "# Map indices to words\n",
    "index_word = {v: k for k, v in word_index.items()}\n",
    "\n",
    "def decode_review(text):\n",
    "    return \" \".join(index_word.get(w, \"???\") for w in text)"
   ]
  },
  {
   "cell_type": "code",
   "execution_count": 5,
   "metadata": {},
   "outputs": [
    {
     "data": {
      "text/plain": [
       "\"<START> this film was just brilliant casting location scenery story direction everyone's really suited the part they played and you could just imagine being there robert <UNK> is an amazing actor and now the same being director <UNK> father came from the same scottish island as myself so i loved the fact there was a real connection with this film the witty remarks throughout the film were great it was just brilliant so much that i bought the film as soon as it was released for <UNK> and would recommend it to everyone to watch and the fly fishing was amazing really cried at the end it was so sad and you know what they say if you cry at a film it must have been good and this definitely was also <UNK> to the two little boy's that played the <UNK> of norman and paul they were just brilliant children are often left out of the <UNK> list i think because the stars that play them all grown up are such a big profile for the whole film but these children are amazing and should be praised for what they have done don't you think the whole story was so lovely because it was true and was someone's life after all that was shared with us all\""
      ]
     },
     "execution_count": 5,
     "metadata": {},
     "output_type": "execute_result"
    }
   ],
   "source": [
    "decode_review(train_data[0])"
   ]
  },
  {
   "cell_type": "markdown",
   "metadata": {},
   "source": [
    "# Prepare the data\n",
    "\n",
    "The reviews must be converted into tensors before being fed into the network\n",
    "\n",
    "\n",
    "### Plan:\n",
    "Pad the inputs so that each review example is the size of the max length review example and set this value (MAX) to be the input size for the input layer"
   ]
  },
  {
   "cell_type": "code",
   "execution_count": 6,
   "metadata": {},
   "outputs": [
    {
     "data": {
      "image/png": "[encoded data removed]",
      "text/plain": [
       "<Figure size 432x288 with 1 Axes>"
      ]
     },
     "metadata": {
      "needs_background": "light"
     },
     "output_type": "display_data"
    },
    {
     "data": {
      "image/png": "[encoded data removed]",
      "text/plain": [
       "<Figure size 432x288 with 1 Axes>"
      ]
     },
     "metadata": {
      "needs_background": "light"
     },
     "output_type": "display_data"
    },
    {
     "data": {
      "text/plain": [
       "<Figure size 432x288 with 0 Axes>"
      ]
     },
     "metadata": {},
     "output_type": "display_data"
    }
   ],
   "source": [
    "# We see that almost all reviews are less than 500 words in length\n",
    "lens_train = [len(r) for r in train_data]\n",
    "plt.hist(lens_train, bins=\"auto\")\n",
    "plt.show()\n",
    "plt.clf()\n",
    "\n",
    "lens_test = [len(r) for r in test_data]\n",
    "plt.hist(lens_test, bins=\"auto\")\n",
    "plt.show()\n",
    "plt.clf()"
   ]
  },
  {
   "cell_type": "code",
   "execution_count": 7,
   "metadata": {},
   "outputs": [],
   "source": [
    "# Use a power of 2 for simplicity\n",
    "# MAX = 512\n",
    "# 256 seems to get slightly better performance\n",
    "MAX = 256\n",
    "\n",
    "train_data = keras.preprocessing.sequence.pad_sequences(train_data,\n",
    "                                                        value=word_index[\"<PAD>\"],\n",
    "                                                        padding=\"post\",\n",
    "                                                        maxlen=MAX)\n",
    "test_data = keras.preprocessing.sequence.pad_sequences(test_data,\n",
    "                                                       value=word_index[\"<PAD>\"],\n",
    "                                                       padding=\"post\",\n",
    "                                                       maxlen=MAX)"
   ]
  },
  {
   "cell_type": "code",
   "execution_count": 8,
   "metadata": {},
   "outputs": [
    {
     "name": "stdout",
     "output_type": "stream",
     "text": [
      "Length of examples after padding:\n",
      "Example 5326: 256, Example 100: 256\n",
      "Training Review 0: [   1   14   22   16   43  530  973 1622 1385   65  458 4468   66 3941\n",
      "    4  173   36  256    5   25  100   43  838  112   50  670    2    9\n",
      "   35  480  284    5  150    4  172  112  167    2  336  385   39    4\n",
      "  172 4536 1111   17  546   38   13  447    4  192   50   16    6  147\n",
      " 2025   19   14   22    4 1920 4613  469    4   22   71   87   12   16\n",
      "   43  530   38   76   15   13 1247    4   22   17  515   17   12   16\n",
      "  626   18    2    5   62  386   12    8  316    8  106    5    4 2223\n",
      " 5244   16  480   66 3785   33    4  130   12   16   38  619    5   25\n",
      "  124   51   36  135   48   25 1415   33    6   22   12  215   28   77\n",
      "   52    5   14  407   16   82    2    8    4  107  117 5952   15  256\n",
      "    4    2    7 3766    5  723   36   71   43  530  476   26  400  317\n",
      "   46    7    4    2 1029   13  104   88    4  381   15  297   98   32\n",
      " 2071   56   26  141    6  194 7486   18    4  226   22   21  134  476\n",
      "   26  480    5  144   30 5535   18   51   36   28  224   92   25  104\n",
      "    4  226   65   16   38 1334   88   12   16  283    5   16 4472  113\n",
      "  103   32   15   16 5345   19  178   32    0    0    0    0    0    0\n",
      "    0    0    0    0    0    0    0    0    0    0    0    0    0    0\n",
      "    0    0    0    0    0    0    0    0    0    0    0    0    0    0\n",
      "    0    0    0    0]\n",
      "Training Review 0 (in words): <START> this film was just brilliant casting location scenery story direction everyone's really suited the part they played and you could just imagine being there robert <UNK> is an amazing actor and now the same being director <UNK> father came from the same scottish island as myself so i loved the fact there was a real connection with this film the witty remarks throughout the film were great it was just brilliant so much that i bought the film as soon as it was released for <UNK> and would recommend it to everyone to watch and the fly fishing was amazing really cried at the end it was so sad and you know what they say if you cry at a film it must have been good and this definitely was also <UNK> to the two little boy's that played the <UNK> of norman and paul they were just brilliant children are often left out of the <UNK> list i think because the stars that play them all grown up are such a big profile for the whole film but these children are amazing and should be praised for what they have done don't you think the whole story was so lovely because it was true and was someone's life after all that was shared with us all <PAD> <PAD> <PAD> <PAD> <PAD> <PAD> <PAD> <PAD> <PAD> <PAD> <PAD> <PAD> <PAD> <PAD> <PAD> <PAD> <PAD> <PAD> <PAD> <PAD> <PAD> <PAD> <PAD> <PAD> <PAD> <PAD> <PAD> <PAD> <PAD> <PAD> <PAD> <PAD> <PAD> <PAD> <PAD> <PAD> <PAD> <PAD>\n"
     ]
    }
   ],
   "source": [
    "i1 = np.random.randint(low=0, high=len(train_data))\n",
    "i2 = np.random.randint(low=0, high=len(train_data))\n",
    "print(\"Length of examples after padding:\\nExample {}: {}, Example {}: {}\".format(\n",
    "    i1, len(train_data[i1]), i2, len(train_data[i1])\n",
    "))\n",
    "\n",
    "print(\"Training Review 0: {}\".format(train_data[0]))\n",
    "print(\"Training Review 0 (in words): {}\".format(decode_review(train_data[0])))"
   ]
  },
  {
   "cell_type": "markdown",
   "metadata": {},
   "source": [
    "# Build the model"
   ]
  },
  {
   "cell_type": "code",
   "execution_count": 9,
   "metadata": {},
   "outputs": [
    {
     "name": "stdout",
     "output_type": "stream",
     "text": [
      "_________________________________________________________________\n",
      "Layer (type)                 Output Shape              Param #   \n",
      "=================================================================\n",
      "embedding (Embedding)        (None, None, 16)          160000    \n",
      "_________________________________________________________________\n",
      "global_average_pooling1d (Gl (None, 16)                0         \n",
      "_________________________________________________________________\n",
      "dense (Dense)                (None, 16)                272       \n",
      "_________________________________________________________________\n",
      "dense_1 (Dense)              (None, 1)                 17        \n",
      "=================================================================\n",
      "Total params: 160,289\n",
      "Trainable params: 160,289\n",
      "Non-trainable params: 0\n",
      "_________________________________________________________________\n"
     ]
    }
   ],
   "source": [
    "vocab_size = 10000\n",
    "\n",
    "model = keras.Sequential()\n",
    "model.add(keras.layers.Embedding(vocab_size, 16))\n",
    "model.add(keras.layers.GlobalAveragePooling1D())\n",
    "model.add(keras.layers.Dense(16, activation=tf.nn.relu))\n",
    "model.add(keras.layers.Dense(1, activation=tf.nn.sigmoid))\n",
    "\n",
    "model.summary()\n",
    "\n",
    "# Still need to add the loss function and optimizer\n",
    "model.compile(optimizer=tf.train.AdamOptimizer(),\n",
    "              loss=\"binary_crossentropy\",\n",
    "              metrics=[\"accuracy\"])"
   ]
  },
  {
   "cell_type": "markdown",
   "metadata": {},
   "source": [
    "# Create a validation set"
   ]
  },
  {
   "cell_type": "code",
   "execution_count": 10,
   "metadata": {},
   "outputs": [],
   "source": [
    "x_val = train_data[:10000]\n",
    "partial_x_train = train_data[10000:]\n",
    "\n",
    "y_val = train_labels[:10000]\n",
    "partial_y_train = train_labels[10000:]"
   ]
  },
  {
   "cell_type": "markdown",
   "metadata": {},
   "source": [
    "# Train the model"
   ]
  },
  {
   "cell_type": "code",
   "execution_count": 11,
   "metadata": {},
   "outputs": [
    {
     "name": "stdout",
     "output_type": "stream",
     "text": [
      "Train on 15000 samples, validate on 10000 samples\n",
      "Epoch 1/50\n",
      "15000/15000 [==============================] - 1s 69us/step - loss: 0.6918 - acc: 0.5223 - val_loss: 0.6896 - val_acc: 0.5459\n",
      "Epoch 2/50\n",
      "15000/15000 [==============================] - 1s 51us/step - loss: 0.6845 - acc: 0.6416 - val_loss: 0.6790 - val_acc: 0.7560\n",
      "Epoch 3/50\n",
      "15000/15000 [==============================] - 1s 48us/step - loss: 0.6693 - acc: 0.7356 - val_loss: 0.6612 - val_acc: 0.7567\n",
      "Epoch 4/50\n",
      "15000/15000 [==============================] - 1s 49us/step - loss: 0.6444 - acc: 0.7762 - val_loss: 0.6334 - val_acc: 0.7768\n",
      "Epoch 5/50\n",
      "15000/15000 [==============================] - 1s 47us/step - loss: 0.6076 - acc: 0.7996 - val_loss: 0.5961 - val_acc: 0.7848\n",
      "Epoch 6/50\n",
      "15000/15000 [==============================] - 1s 47us/step - loss: 0.5619 - acc: 0.8179 - val_loss: 0.5507 - val_acc: 0.8098\n",
      "Epoch 7/50\n",
      "15000/15000 [==============================] - 1s 49us/step - loss: 0.5122 - acc: 0.8394 - val_loss: 0.5059 - val_acc: 0.8269\n",
      "Epoch 8/50\n",
      "15000/15000 [==============================] - 1s 48us/step - loss: 0.4633 - acc: 0.8548 - val_loss: 0.4642 - val_acc: 0.8386\n",
      "Epoch 9/50\n",
      "15000/15000 [==============================] - 1s 48us/step - loss: 0.4192 - acc: 0.8701 - val_loss: 0.4289 - val_acc: 0.8450\n",
      "Epoch 10/50\n",
      "15000/15000 [==============================] - 1s 52us/step - loss: 0.3814 - acc: 0.8769 - val_loss: 0.3982 - val_acc: 0.8569\n",
      "Epoch 11/50\n",
      "15000/15000 [==============================] - 1s 52us/step - loss: 0.3492 - acc: 0.8877 - val_loss: 0.3746 - val_acc: 0.8619\n",
      "Epoch 12/50\n",
      "15000/15000 [==============================] - 1s 49us/step - loss: 0.3225 - acc: 0.8941 - val_loss: 0.3568 - val_acc: 0.8675\n",
      "Epoch 13/50\n",
      "15000/15000 [==============================] - 1s 47us/step - loss: 0.3002 - acc: 0.8990 - val_loss: 0.3411 - val_acc: 0.8719\n",
      "Epoch 14/50\n",
      "15000/15000 [==============================] - 1s 49us/step - loss: 0.2808 - acc: 0.9059 - val_loss: 0.3289 - val_acc: 0.8744\n",
      "Epoch 15/50\n",
      "15000/15000 [==============================] - 1s 48us/step - loss: 0.2639 - acc: 0.9103 - val_loss: 0.3192 - val_acc: 0.8772\n",
      "Epoch 16/50\n",
      "15000/15000 [==============================] - 1s 48us/step - loss: 0.2494 - acc: 0.9139 - val_loss: 0.3114 - val_acc: 0.8791\n",
      "Epoch 17/50\n",
      "15000/15000 [==============================] - 1s 50us/step - loss: 0.2359 - acc: 0.9198 - val_loss: 0.3052 - val_acc: 0.8799\n",
      "Epoch 18/50\n",
      "15000/15000 [==============================] - 1s 48us/step - loss: 0.2237 - acc: 0.9243 - val_loss: 0.3003 - val_acc: 0.8816\n",
      "Epoch 19/50\n",
      "15000/15000 [==============================] - 1s 52us/step - loss: 0.2126 - acc: 0.9281 - val_loss: 0.2955 - val_acc: 0.8823\n",
      "Epoch 20/50\n",
      "15000/15000 [==============================] - 1s 55us/step - loss: 0.2032 - acc: 0.9305 - val_loss: 0.2922 - val_acc: 0.8835\n",
      "Epoch 21/50\n",
      "15000/15000 [==============================] - 1s 50us/step - loss: 0.1932 - acc: 0.9351 - val_loss: 0.2898 - val_acc: 0.8842\n",
      "Epoch 22/50\n",
      "15000/15000 [==============================] - 1s 51us/step - loss: 0.1843 - acc: 0.9393 - val_loss: 0.2880 - val_acc: 0.8842\n",
      "Epoch 23/50\n",
      "15000/15000 [==============================] - 1s 51us/step - loss: 0.1763 - acc: 0.9429 - val_loss: 0.2864 - val_acc: 0.8855\n",
      "Epoch 24/50\n",
      "15000/15000 [==============================] - 1s 48us/step - loss: 0.1685 - acc: 0.9464 - val_loss: 0.2857 - val_acc: 0.8853\n",
      "Epoch 25/50\n",
      "15000/15000 [==============================] - 1s 49us/step - loss: 0.1613 - acc: 0.9497 - val_loss: 0.2849 - val_acc: 0.8866\n",
      "Epoch 26/50\n",
      "15000/15000 [==============================] - 1s 50us/step - loss: 0.1546 - acc: 0.9519 - val_loss: 0.2853 - val_acc: 0.8871\n",
      "Epoch 27/50\n",
      "15000/15000 [==============================] - 1s 47us/step - loss: 0.1481 - acc: 0.9554 - val_loss: 0.2855 - val_acc: 0.8865\n",
      "Epoch 28/50\n",
      "15000/15000 [==============================] - 1s 48us/step - loss: 0.1422 - acc: 0.9569 - val_loss: 0.2860 - val_acc: 0.8872\n",
      "Epoch 29/50\n",
      "15000/15000 [==============================] - 1s 52us/step - loss: 0.1369 - acc: 0.9595 - val_loss: 0.2872 - val_acc: 0.8860\n",
      "Epoch 30/50\n",
      "15000/15000 [==============================] - 1s 51us/step - loss: 0.1309 - acc: 0.9612 - val_loss: 0.2883 - val_acc: 0.8874\n",
      "Epoch 31/50\n",
      "15000/15000 [==============================] - 1s 52us/step - loss: 0.1258 - acc: 0.9642 - val_loss: 0.2906 - val_acc: 0.8856\n",
      "Epoch 32/50\n",
      "15000/15000 [==============================] - 1s 51us/step - loss: 0.1206 - acc: 0.9663 - val_loss: 0.2934 - val_acc: 0.8857\n",
      "Epoch 33/50\n",
      "15000/15000 [==============================] - 1s 47us/step - loss: 0.1158 - acc: 0.9673 - val_loss: 0.2954 - val_acc: 0.8859\n",
      "Epoch 34/50\n",
      "15000/15000 [==============================] - 1s 47us/step - loss: 0.1112 - acc: 0.9693 - val_loss: 0.2964 - val_acc: 0.8865\n",
      "Epoch 35/50\n",
      "15000/15000 [==============================] - 1s 51us/step - loss: 0.1072 - acc: 0.9705 - val_loss: 0.2992 - val_acc: 0.8842\n",
      "Epoch 36/50\n",
      "15000/15000 [==============================] - 1s 46us/step - loss: 0.1025 - acc: 0.9729 - val_loss: 0.3026 - val_acc: 0.8845\n",
      "Epoch 37/50\n",
      "15000/15000 [==============================] - 1s 44us/step - loss: 0.0985 - acc: 0.9741 - val_loss: 0.3064 - val_acc: 0.8824\n",
      "Epoch 38/50\n",
      "15000/15000 [==============================] - 1s 47us/step - loss: 0.0949 - acc: 0.9746 - val_loss: 0.3103 - val_acc: 0.8824\n",
      "Epoch 39/50\n",
      "15000/15000 [==============================] - 1s 46us/step - loss: 0.0918 - acc: 0.9761 - val_loss: 0.3119 - val_acc: 0.8828\n",
      "Epoch 40/50\n",
      "15000/15000 [==============================] - 1s 45us/step - loss: 0.0878 - acc: 0.9780 - val_loss: 0.3154 - val_acc: 0.8814\n",
      "Epoch 41/50\n",
      "15000/15000 [==============================] - 1s 45us/step - loss: 0.0837 - acc: 0.9793 - val_loss: 0.3182 - val_acc: 0.8819\n",
      "Epoch 42/50\n",
      "15000/15000 [==============================] - 1s 46us/step - loss: 0.0804 - acc: 0.9809 - val_loss: 0.3238 - val_acc: 0.8801\n",
      "Epoch 43/50\n",
      "15000/15000 [==============================] - 1s 52us/step - loss: 0.0775 - acc: 0.9817 - val_loss: 0.3265 - val_acc: 0.8814\n",
      "Epoch 44/50\n",
      "15000/15000 [==============================] - 1s 63us/step - loss: 0.0741 - acc: 0.9829 - val_loss: 0.3318 - val_acc: 0.8793\n",
      "Epoch 45/50\n",
      "15000/15000 [==============================] - 1s 55us/step - loss: 0.0715 - acc: 0.9834 - val_loss: 0.3350 - val_acc: 0.8805\n",
      "Epoch 46/50\n",
      "15000/15000 [==============================] - 1s 51us/step - loss: 0.0686 - acc: 0.9847 - val_loss: 0.3394 - val_acc: 0.8795\n",
      "Epoch 47/50\n",
      "15000/15000 [==============================] - 1s 44us/step - loss: 0.0660 - acc: 0.9857 - val_loss: 0.3437 - val_acc: 0.8796\n",
      "Epoch 48/50\n",
      "15000/15000 [==============================] - 1s 44us/step - loss: 0.0630 - acc: 0.9863 - val_loss: 0.3496 - val_acc: 0.8785\n",
      "Epoch 49/50\n",
      "15000/15000 [==============================] - 1s 48us/step - loss: 0.0605 - acc: 0.9873 - val_loss: 0.3528 - val_acc: 0.8792\n",
      "Epoch 50/50\n",
      "15000/15000 [==============================] - 1s 47us/step - loss: 0.0583 - acc: 0.9879 - val_loss: 0.3584 - val_acc: 0.8787\n"
     ]
    }
   ],
   "source": [
    "history = model.fit(\n",
    "    partial_x_train,\n",
    "    partial_y_train,\n",
    "    epochs=50,\n",
    "    batch_size=512,\n",
    "    validation_data=(x_val, y_val),\n",
    "    verbose=1\n",
    ")"
   ]
  },
  {
   "cell_type": "code",
   "execution_count": 12,
   "metadata": {},
   "outputs": [
    {
     "name": "stdout",
     "output_type": "stream",
     "text": [
      "25000/25000 [==============================] - 0s 15us/step\n",
      "[0.3849414592218399, 0.86468]\n"
     ]
    }
   ],
   "source": [
    "results = model.evaluate(test_data, test_labels)\n",
    "print(results)"
   ]
  },
  {
   "cell_type": "markdown",
   "metadata": {},
   "source": [
    "# Visualize"
   ]
  },
  {
   "cell_type": "code",
   "execution_count": 13,
   "metadata": {},
   "outputs": [
    {
     "name": "stdout",
     "output_type": "stream",
     "text": [
      "dict_keys(['val_loss', 'val_acc', 'loss', 'acc'])\n"
     ]
    }
   ],
   "source": [
    "h = history.history\n",
    "print(h.keys())"
   ]
  },
  {
   "cell_type": "code",
   "execution_count": 14,
   "metadata": {},
   "outputs": [
    {
     "data": {
      "image/png": "[encoded data removed]",
      "text/plain": [
       "<Figure size 432x288 with 1 Axes>"
      ]
     },
     "metadata": {
      "needs_background": "light"
     },
     "output_type": "display_data"
    },
    {
     "data": {
      "image/png": "[encoded data removed]",
      "text/plain": [
       "<Figure size 432x288 with 1 Axes>"
      ]
     },
     "metadata": {
      "needs_background": "light"
     },
     "output_type": "display_data"
    },
    {
     "data": {
      "text/plain": [
       "<Figure size 432x288 with 0 Axes>"
      ]
     },
     "metadata": {},
     "output_type": "display_data"
    }
   ],
   "source": [
    "epochs = range(1, len(h[\"acc\"]) + 1)\n",
    "\n",
    "plt.plot(epochs, h[\"loss\"], \"b\", label=\"Training loss\")\n",
    "plt.plot(epochs, h[\"val_loss\"], \"r\", label=\"Validation loss\")\n",
    "plt.title(\"Training and validation loss\")\n",
    "plt.xlabel(\"Epochs\")\n",
    "plt.ylabel(\"Loss\")\n",
    "plt.legend()\n",
    "plt.show()\n",
    "plt.clf()\n",
    "\n",
    "plt.plot(epochs, h[\"acc\"], \"b\", label=\"Training acc\")\n",
    "plt.plot(epochs, h[\"val_acc\"], \"r\", label=\"Validation acc\")\n",
    "plt.title(\"Training and validation accuracy\")\n",
    "plt.xlabel(\"Epochs\")\n",
    "plt.ylabel(\"Accuracy\")\n",
    "plt.legend()\n",
    "plt.show()\n",
    "plt.clf()"
   ]
  },
  {
   "cell_type": "code",
   "execution_count": null,
   "metadata": {},
   "outputs": [],
   "source": []
  },
  {
   "cell_type": "code",
   "execution_count": null,
   "metadata": {},
   "outputs": [],
   "source": []
  },
  {
   "cell_type": "code",
   "execution_count": null,
   "metadata": {},
   "outputs": [],
   "source": []
  },
  {
   "cell_type": "code",
   "execution_count": null,
   "metadata": {},
   "outputs": [],
   "source": []
  },
  {
   "cell_type": "code",
   "execution_count": null,
   "metadata": {},
   "outputs": [],
   "source": []
  },
  {
   "cell_type": "code",
   "execution_count": null,
   "metadata": {},
   "outputs": [],
   "source": []
  },
  {
   "cell_type": "code",
   "execution_count": null,
   "metadata": {},
   "outputs": [],
   "source": []
  },
  {
   "cell_type": "code",
   "execution_count": null,
   "metadata": {},
   "outputs": [],
   "source": []
  }
 ],
 "metadata": {
  "kernelspec": {
   "display_name": "Python 3",
   "language": "python",
   "name": "python3"
  },
  "language_info": {
   "codemirror_mode": {
    "name": "ipython",
    "version": 3
   },
   "file_extension": ".py",
   "mimetype": "text/x-python",
   "name": "python",
   "nbconvert_exporter": "python",
   "pygments_lexer": "ipython3",
   "version": "3.6.8"
  }
 },
 "nbformat": 4,
 "nbformat_minor": 2
}
